{
 "cells": [
  {
   "cell_type": "code",
   "execution_count": null,
   "metadata": {
    "collapsed": true
   },
   "outputs": [],
   "source": [
    "%matplotlib inline"
   ]
  },
  {
   "cell_type": "code",
   "execution_count": null,
   "metadata": {
    "collapsed": true
   },
   "outputs": [],
   "source": [
    "import numpy as np\n",
    "from numpy import newaxis as na\n",
    "import scipy\n",
    "import scipy.sparse as sps\n",
    "from scipy.sparse.linalg import spsolve, LinearOperator\n",
    "import matplotlib.pyplot as plt\n",
    "from mpl_toolkits.mplot3d import Axes3D\n",
    "from matplotlib import cm"
   ]
  },
  {
   "cell_type": "code",
   "execution_count": null,
   "metadata": {
    "collapsed": false
   },
   "outputs": [],
   "source": [
    "from pyamg.classical import ruge_stuben_solver\n",
    "from pyfem.sem import SEMhat\n",
    "from pyfem.topo import Interval\n",
    "norm = lambda x: np.max(np.abs(x)) if len(x)>0 else 0.0"
   ]
  },
  {
   "cell_type": "markdown",
   "metadata": {},
   "source": [
    "# Setup mesh"
   ]
  },
  {
   "cell_type": "code",
   "execution_count": null,
   "metadata": {
    "collapsed": false
   },
   "outputs": [],
   "source": [
    "N  = 16\n",
    "Ex = 4\n",
    "Ey = 4\n",
    "\n",
    "nx      = N+1\n",
    "ny      = N+1\n",
    "nx_dofs = N*Ex+1\n",
    "ny_dofs = N*Ey+1\n",
    "n_elem  = Ex*Ey\n",
    "\n",
    "periodic = True\n",
    "\n",
    "if periodic:\n",
    "    nx_dofs -= 1\n",
    "    ny_dofs -= 1\n",
    "    \n",
    "semh = SEMhat(N)"
   ]
  },
  {
   "cell_type": "code",
   "execution_count": null,
   "metadata": {
    "collapsed": true
   },
   "outputs": [],
   "source": [
    "def f(X):\n",
    "    x = X[:,0]\n",
    "    y = X[:,1]\n",
    "    \n",
    "    return np.sin(np.pi*x)*np.sin(np.pi*y)\n",
    "\n",
    "def f2(X):\n",
    "    x = X[:,0]\n",
    "    y = X[:,1]\n",
    "    \n",
    "    return np.sin(np.pi*x)*np.sin(np.pi*y)*2*(np.pi)**2\n",
    "\n",
    "# def f(X):\n",
    "#     x = X[:,0]\n",
    "#     y = X[:,1]\n",
    "    \n",
    "#     return np.cos(np.pi*x)*np.cos(np.pi*y)\n",
    "\n",
    "# def f2(X):\n",
    "#     x = X[:,0]\n",
    "#     y = X[:,1]\n",
    "    \n",
    "#     return np.cos(np.pi*x)*np.cos(np.pi*y)*2*(np.pi)**2\n",
    "\n",
    "# sx = 0.1\n",
    "# sy = 0.1\n",
    "\n",
    "# def ref_to_phys(X, nodes):\n",
    "#     chi = X[:,0]\n",
    "#     eta = X[:,1]\n",
    "#     P   = np.zeros_like(X)\n",
    "    \n",
    "#     P[:,0] = chi+sx*np.sin(np.pi*chi)*np.sin(np.pi*eta)\n",
    "#     P[:,1] = eta+sy*np.sin(np.pi*chi)*np.sin(np.pi*eta)\n",
    "    \n",
    "#     return P\n",
    "\n",
    "# def calc_jacb(X, nodes):\n",
    "#     chi = X[:,0]\n",
    "#     eta = X[:,1]\n",
    "#     J   = np.zeros((X.shape[0],2,2))\n",
    "    \n",
    "#     J[:,0,0] = np.ones_like(chi) +sx*np.pi*np.cos(np.pi*chi)*np.sin(np.pi*eta)\n",
    "#     J[:,0,1] = np.zeros_like(chi)+sx*np.pi*np.sin(np.pi*chi)*np.cos(np.pi*eta)\n",
    "#     J[:,1,0] = np.zeros_like(eta)+sy*np.pi*np.cos(np.pi*chi)*np.sin(np.pi*eta)\n",
    "#     J[:,1,1] = np.ones_like(eta) +sy*np.pi*np.sin(np.pi*chi)*np.cos(np.pi*eta)\n",
    "    \n",
    "#     return J"
   ]
  },
  {
   "cell_type": "code",
   "execution_count": null,
   "metadata": {
    "collapsed": true
   },
   "outputs": [],
   "source": [
    "sx = 0.1\n",
    "sy = 0.1\n",
    "\n",
    "def ref_to_phys(X, nodes):\n",
    "    \n",
    "    dx = nodes[1,0]-nodes[0,0]\n",
    "    dy = nodes[2,1]-nodes[0,1]\n",
    "    \n",
    "    P       = (X+1.0)/2.0\n",
    "    P[:,0] *= dx\n",
    "    P[:,1] *= dy\n",
    "    P      += nodes[0,:]\n",
    "    \n",
    "    return P\n",
    "\n",
    "def calc_jacb(X, nodes):\n",
    "    \n",
    "    dx = nodes[1,0]-nodes[0,0]\n",
    "    dy = nodes[2,1]-nodes[0,1]\n",
    "    \n",
    "    J   = np.zeros((X.shape[0],2,2))\n",
    "    J[:,0,0] = dx/2.0\n",
    "    # J[:,0,1] = 0.0\n",
    "    # J[:,1,0] = 0.0\n",
    "    J[:,1,1] = dy/2.0\n",
    "    \n",
    "    return J"
   ]
  },
  {
   "cell_type": "code",
   "execution_count": null,
   "metadata": {
    "collapsed": false
   },
   "outputs": [],
   "source": [
    "topo = Interval()\n",
    "jma  = []\n",
    "mqa  = []\n",
    "for Em in [Ey, Ex]:\n",
    "    vertices = np.linspace(-1, 1, Em+1)\n",
    "    etvm      = np.zeros((Em, 2), dtype=np.int)\n",
    "    etvm[:,0] = np.arange(Em)\n",
    "    etvm[:,1] = np.arange(Em)+1\n",
    "    #mq = topo.ref_to_phys(vertices[etvm], semh.xgll)\n",
    "    mq = topo.ref_to_phys(vertices[etvm], np.array([-1.0,1.0]))\n",
    "    jacb_det0m = topo.calc_jacb(vertices[etvm])[0]\n",
    "#     if periodic:\n",
    "#         mq = mq.ravel()[:-1]\n",
    "        \n",
    "    jma += [jacb_det0m]\n",
    "    mqa += [mq]\n",
    "\n",
    "yq, xq = mqa\n",
    "dy, dx = map(np.unique, mqa)\n",
    "#jacb_det0y, jacb_det0x = 1.0, 1.0\n",
    "\n",
    "X, Y = np.meshgrid(dx, dy)\n",
    "vertex_ref = np.zeros((len(X.ravel()), 2))\n",
    "vertex_ref[:,0] = X.ravel()\n",
    "vertex_ref[:,1] = Y.ravel()\n",
    "\n",
    "#dof_phys = ref_to_phys(dof_ref)\n",
    "vertex_phys = vertex_ref\n",
    "\n",
    "etn = np.zeros((n_elem, 4), dtype=np.int)\n",
    "ind = 0\n",
    "for iy in range(Ey):\n",
    "    for ix in range(Ex):\n",
    "        etn[ind, 0] = ix+iy*(Ex+1)\n",
    "        etn[ind, 1] = ix+iy*(Ex+1)+1\n",
    "        etn[ind, 2] = ix+(iy+1)*(Ex+1)\n",
    "        etn[ind, 3] = ix+(iy+1)*(Ex+1)+1\n",
    "        ind += 1"
   ]
  },
  {
   "cell_type": "code",
   "execution_count": null,
   "metadata": {
    "collapsed": false
   },
   "outputs": [],
   "source": [
    "# Build restriction operator\n",
    "if periodic:\n",
    "    R0x = sps.eye(nx_dofs)\n",
    "    R0y = sps.eye(ny_dofs)\n",
    "else:\n",
    "    R0x = sps.dia_matrix((np.ones(nx_dofs),1),\n",
    "                          shape=(nx_dofs-2,nx_dofs))\n",
    "\n",
    "    R0y = sps.dia_matrix((np.ones(ny_dofs),1),\n",
    "                         shape=(ny_dofs-2,ny_dofs))\n",
    "\n",
    "R = sps.kron(R0y, R0x)\n",
    "\n",
    "rngx = np.arange(nx_dofs)\n",
    "rngy = np.arange(ny_dofs)\n",
    "\n",
    "if not periodic:\n",
    "    boundary_dofs = np.hstack([rngx,\n",
    "                               rngx+nx_dofs*(ny_dofs-1),\n",
    "                               rngy[1:-1]*nx_dofs])\n",
    "    boundary_dofs = np.hstack([boundary_dofs,\n",
    "                               rngy[1:-1]*nx_dofs+nx_dofs-1])\n",
    "else:\n",
    "    boundary_dofs = np.array([],dtype=np.int)\n",
    "\n",
    "boundary_dofs.sort()"
   ]
  },
  {
   "cell_type": "code",
   "execution_count": null,
   "metadata": {
    "collapsed": false
   },
   "outputs": [],
   "source": [
    "# ax = np.repeat(semh.wgll[na,:-1], Ex, axis=0)\n",
    "# ax = ax.ravel()\n",
    "# if not periodic:\n",
    "#     ax = np.hstack([ax,ax[0]])\n",
    "# ay = np.repeat(semh.wgll[na,:-1], Ey, axis=0)\n",
    "# ay = ay.ravel()\n",
    "# if not periodic:\n",
    "#     ay = np.hstack([ay,ay[0]])\n",
    "\n",
    "# wvals  = ay[:,na]*ax[na,:]\n",
    "# wvals *= jacb_det0x*jacb_det0y\n",
    "# wvals  = wvals.ravel()"
   ]
  },
  {
   "cell_type": "code",
   "execution_count": null,
   "metadata": {
    "collapsed": false
   },
   "outputs": [],
   "source": [
    "# Make Q\n",
    "\n",
    "Qa = []\n",
    "for Em in [Ey, Ex]:\n",
    "    etdm = np.arange(Em*(N+1))\n",
    "    etdm = etdm.reshape((Em, -1))\n",
    "    etdm -= np.arange(Em)[:,na]\n",
    "    if periodic:\n",
    "        etdm[-1,-1] = etdm[0,0]\n",
    "        \n",
    "    cols = etdm.ravel()\n",
    "    rows = np.arange(len(cols))\n",
    "    vals = np.ones(len(cols))\n",
    "    Q0m = sps.coo_matrix((vals,(rows,cols))).tocsr()\n",
    "    \n",
    "    Qa += [Q0m]\n",
    "\n",
    "Q = sps.kron(*Qa)\n",
    "\n",
    "a = Q.dot(np.arange(nx_dofs*ny_dofs)).reshape((ny*Ey,nx*Ex))\n",
    "etd = np.zeros((Ex*Ey, nx*ny), dtype=np.int)\n",
    "ind = 0\n",
    "for iy in range(Ey):\n",
    "    for ix in range(Ex):\n",
    "        indy = iy*ny\n",
    "        indx = ix*nx\n",
    "        etd[ind,:] = a[indy:indy+ny,indx:indx+nx].ravel()\n",
    "        ind += 1\n",
    "        \n",
    "cols = etd.ravel()\n",
    "rows = np.arange(len(cols))\n",
    "vals = np.ones(len(cols))\n",
    "Q = sps.coo_matrix((vals,(rows,cols))).tocsr()"
   ]
  },
  {
   "cell_type": "code",
   "execution_count": null,
   "metadata": {
    "collapsed": false
   },
   "outputs": [],
   "source": [
    "# # Compute jacobian information\n",
    "\n",
    "# Jacb     = calc_jacb(dof_ref)\n",
    "# jacb_det = np.linalg.det(Jacb).ravel()\n",
    "# Jacb_inv = np.linalg.inv(Jacb)"
   ]
  },
  {
   "cell_type": "markdown",
   "metadata": {},
   "source": [
    "# Poisson"
   ]
  },
  {
   "cell_type": "code",
   "execution_count": null,
   "metadata": {
    "collapsed": false
   },
   "outputs": [],
   "source": [
    "wgll = semh.wgll\n",
    "wv   = (wgll[:,na]*wgll[na,:]).ravel()\n",
    "# Handle initial mapping\n",
    "#wv  *= jacb_det0x*jacb_det0y\n",
    "\n",
    "xgll = semh.xgll\n",
    "n = len(xgll)\n",
    "quad_ref = np.zeros((n,n,2))\n",
    "quad_ref[:,:,0] = xgll[na,:]\n",
    "quad_ref[:,:,1] = xgll[:,na]\n",
    "quad_ref = quad_ref.reshape((-1,2))"
   ]
  },
  {
   "cell_type": "code",
   "execution_count": null,
   "metadata": {
    "collapsed": false
   },
   "outputs": [],
   "source": [
    "# build Gij\n",
    "G0 = np.zeros((len(quad_ref),2,2))\n",
    "G11 = []\n",
    "G12 = []\n",
    "G21 = []\n",
    "G22 = []\n",
    "nn = nx*ny\n",
    "s  = (nn, nn)\n",
    "dof_phys = np.zeros((nx_dofs*ny_dofs, 2))\n",
    "wvals    = np.zeros(nx_dofs*ny_dofs)\n",
    "\n",
    "for i in range(n_elem):\n",
    "     \n",
    "    ver = vertex_phys[etn[i]]\n",
    "    J   = calc_jacb(quad_ref, ver)\n",
    "    Ji  = np.linalg.inv(J)\n",
    "    j   = np.linalg.det(J).ravel()\n",
    "    dof_phys[etd[i],:] = ref_to_phys(quad_ref, ver)\n",
    "\n",
    "    G0 = np.matmul(Ji, np.transpose(Ji, (0,2,1)))\n",
    "    G0 *= (wv*j)[:,na,na]\n",
    "    wvals[etd[i]] = (wv*j)\n",
    "    \n",
    "    G11 += [sps.dia_matrix((G0[:,0,0], 0), shape=s)]\n",
    "    G12 += [sps.dia_matrix((G0[:,0,1], 0), shape=s)]\n",
    "    G21 += [sps.dia_matrix((G0[:,1,0], 0), shape=s)]\n",
    "    G22 += [sps.dia_matrix((G0[:,1,1], 0), shape=s)]"
   ]
  },
  {
   "cell_type": "code",
   "execution_count": null,
   "metadata": {
    "collapsed": false
   },
   "outputs": [],
   "source": [
    "# Build poisson stiffness matrix A\n",
    "\n",
    "D1 = sps.kron(sps.eye(ny), semh.Dh)\n",
    "D2 = sps.kron(semh.Dh, sps.eye(nx))\n",
    "\n",
    "A0a = []\n",
    "for i in range(n_elem):\n",
    "    A0a += [D1.T.dot(G11[i].dot(D1)+G12[i].dot(D2))+\\\n",
    "            D2.T.dot(G21[i].dot(D1)+G22[i].dot(D2))]\n",
    "A0 = sps.block_diag(A0a).tocsr()\n",
    "A0 = Q.T.dot(A0.dot(Q))\n",
    "A  = R.dot(A0.dot(R.T))\n",
    "\n",
    "# Build mass matrix B\n",
    "nd = nx_dofs*ny_dofs\n",
    "b = Q.T.dot((wvals)[etd.ravel()])\n",
    "#Bl = sps.dia_matrix((wvals*jacb_det, 0), shape=(nd,nd))\n",
    "# Bl is not the local mass matrix.\n",
    "# I am just using bad notation here\n",
    "Bl = sps.dia_matrix((b, 0), shape=(nd,nd))\n",
    "Binv_data = (1.0/Bl.data).ravel()\n",
    "Binv_data = R.dot(Binv_data)\n",
    "\n",
    "if nd<=1e3:\n",
    "    print np.min(np.linalg.svd(A.toarray())[1])"
   ]
  },
  {
   "cell_type": "code",
   "execution_count": null,
   "metadata": {
    "collapsed": true
   },
   "outputs": [],
   "source": [
    "def apply_A(x):\n",
    "    \n",
    "    x = Q.dot(x)\n",
    "    x = x.reshape((n_elem, nx*ny))\n",
    "    y = np.zeros_like(x)\n",
    "    for i in xrange(n_elem):\n",
    "        Dx = D1.dot(x[i])\n",
    "        y[i] += D1.T.dot(G11[i].dot(Dx))\n",
    "        y[i] += D2.T.dot(G21[i].dot(Dx))\n",
    "        Dx = D2.dot(x[i])\n",
    "        y[i] += D1.T.dot(G12[i].dot(Dx))\n",
    "        y[i] += D2.T.dot(G22[i].dot(Dx))\n",
    "        \n",
    "    return Q.T.dot(y.ravel())\n",
    "\n",
    "nn = nx_dofs*ny_dofs\n",
    "linOp = LinearOperator((nn, nn), matvec=apply_A)"
   ]
  },
  {
   "cell_type": "markdown",
   "metadata": {},
   "source": [
    "## Solve System"
   ]
  },
  {
   "cell_type": "code",
   "execution_count": null,
   "metadata": {
    "collapsed": false
   },
   "outputs": [],
   "source": [
    "fh  = f2(dof_phys)\n",
    "fl = fh\n",
    "rhs = Bl.dot(fl)\n",
    "radj = np.zeros(nx_dofs*ny_dofs)\n",
    "radj[boundary_dofs] = f(dof_phys)[boundary_dofs]\n",
    "rhs = R.dot(rhs-A0.dot(radj))\n",
    "\n",
    "if periodic:\n",
    "    rhs -= np.mean(rhs)"
   ]
  },
  {
   "cell_type": "code",
   "execution_count": null,
   "metadata": {
    "collapsed": false
   },
   "outputs": [],
   "source": [
    "# Check apply_A against full matrix\n",
    "norm(apply_A(rhs)-A.dot(rhs))"
   ]
  },
  {
   "cell_type": "markdown",
   "metadata": {},
   "source": [
    "### Solve with AMG"
   ]
  },
  {
   "cell_type": "code",
   "execution_count": null,
   "metadata": {
    "collapsed": false
   },
   "outputs": [],
   "source": [
    "ml = ruge_stuben_solver(A)\n",
    "residuals = []\n",
    "sol = R.T.dot(ml.solve(rhs, tol=1e-14, \n",
    "                       maxiter=1000, residuals=residuals,\n",
    "                       accel='cg'))\n",
    "sol[boundary_dofs] = f(dof_phys)[boundary_dofs]\n",
    "\n",
    "if periodic:\n",
    "    sol -= np.mean(sol)\n",
    "\n",
    "print len(residuals), residuals[-1]\n",
    "print \n",
    "print norm(f(dof_phys)-sol)/norm(f(dof_phys))"
   ]
  },
  {
   "cell_type": "markdown",
   "metadata": {},
   "source": [
    "### Solve with CG"
   ]
  },
  {
   "cell_type": "code",
   "execution_count": null,
   "metadata": {
    "collapsed": false
   },
   "outputs": [],
   "source": [
    "class CB(object):\n",
    "    def __init__(self):\n",
    "        self.n_iter = 0\n",
    "    def __call__(self, x):\n",
    "        self.n_iter += 1\n",
    "        \n",
    "cb = CB()\n",
    "solcg, errc = sps.linalg.cg(linOp, rhs, tol=1e-14, maxiter=2000,\n",
    "                     callback=cb)\n",
    "solcg = R.T.dot(solcg)\n",
    "if periodic:\n",
    "    solcg -= np.mean(solcg)\n",
    "    \n",
    "print cb.n_iter, norm(rhs-apply_A(solcg))\n",
    "print\n",
    "print norm(f(dof_phys)-solcg)/norm(f(dof_phys))\n",
    "print norm(sol-solcg)"
   ]
  },
  {
   "cell_type": "code",
   "execution_count": null,
   "metadata": {
    "collapsed": false
   },
   "outputs": [],
   "source": [
    "fig = plt.figure()\n",
    "ax = fig.gca(projection='3d')\n",
    "s = (ny_dofs,nx_dofs)\n",
    "X, Y = dof_phys[:,0], dof_phys[:,1]\n",
    "X = X.reshape(s)\n",
    "Y = Y.reshape(s)\n",
    "ax.plot_wireframe(X, Y, f(dof_phys).reshape(s))\n",
    "ax.plot_wireframe(X, Y, sol.reshape(s),\n",
    "                  color='g')\n",
    "plt.savefig(\"sol.pdf\")"
   ]
  },
  {
   "cell_type": "code",
   "execution_count": null,
   "metadata": {
    "collapsed": false
   },
   "outputs": [],
   "source": [
    "plt.scatter(dof_phys[:,0], dof_phys[:,1])"
   ]
  },
  {
   "cell_type": "code",
   "execution_count": null,
   "metadata": {
    "collapsed": true
   },
   "outputs": [],
   "source": []
  }
 ],
 "metadata": {
  "kernelspec": {
   "display_name": "Python 2",
   "language": "python",
   "name": "python2"
  },
  "language_info": {
   "codemirror_mode": {
    "name": "ipython",
    "version": 2
   },
   "file_extension": ".py",
   "mimetype": "text/x-python",
   "name": "python",
   "nbconvert_exporter": "python",
   "pygments_lexer": "ipython2",
   "version": "2.7.12"
  }
 },
 "nbformat": 4,
 "nbformat_minor": 0
}
