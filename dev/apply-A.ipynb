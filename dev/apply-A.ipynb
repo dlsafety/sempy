{
 "cells": [
  {
   "cell_type": "code",
   "execution_count": null,
   "metadata": {
    "collapsed": true
   },
   "outputs": [],
   "source": [
    "%matplotlib inline"
   ]
  },
  {
   "cell_type": "code",
   "execution_count": null,
   "metadata": {
    "collapsed": false
   },
   "outputs": [],
   "source": [
    "import numpy as np\n",
    "import scipy.sparse as sps\n",
    "import matplotlib.pyplot as plt"
   ]
  },
  {
   "cell_type": "code",
   "execution_count": null,
   "metadata": {
    "collapsed": true
   },
   "outputs": [],
   "source": [
    "from sempy.tensormesh import HexCubePoisson\n",
    "from sempy.maps import LinearIsopMap\n",
    "from sempy.topology import CubicTopology\n",
    "from sempy.poisson import PoissonProblem"
   ]
  },
  {
   "cell_type": "code",
   "execution_count": null,
   "metadata": {
    "collapsed": true
   },
   "outputs": [],
   "source": [
    "import pyopencl as cl\n",
    "import pyopencl.array\n",
    "import loopy as lp"
   ]
  },
  {
   "cell_type": "code",
   "execution_count": null,
   "metadata": {
    "collapsed": true
   },
   "outputs": [],
   "source": [
    "ctx = cl.create_some_context()\n",
    "queue = cl.CommandQueue(ctx)"
   ]
  },
  {
   "cell_type": "code",
   "execution_count": null,
   "metadata": {
    "collapsed": true
   },
   "outputs": [],
   "source": [
    "mnorm = lambda x: np.max(np.abs(x))\n",
    "def kron3(A, B, C):\n",
    "    return sps.kron(A, sps.kron(B, C))"
   ]
  },
  {
   "cell_type": "code",
   "execution_count": null,
   "metadata": {
    "collapsed": true
   },
   "outputs": [],
   "source": [
    "N  = 8\n",
    "NN = N\n",
    "\n",
    "Ex = 17\n",
    "Ey = Ex\n",
    "Ez = Ex\n",
    "\n",
    "periodic = True"
   ]
  },
  {
   "cell_type": "markdown",
   "metadata": {},
   "source": [
    "# Set Up Poisson Problem"
   ]
  },
  {
   "cell_type": "code",
   "execution_count": null,
   "metadata": {
    "collapsed": false
   },
   "outputs": [],
   "source": [
    "lmap = LinearIsopMap()\n",
    "\n",
    "topo = CubicTopology(N, (Ex, Ey, Ez),\n",
    "                    periodic=periodic)\n",
    "topo.build()\n",
    "\n",
    "etn = topo.elem_to_vertex\n",
    "Q, etd = topo.Q, topo.elem_to_dof\n",
    "R = topo.R\n",
    "boundary_dofs = topo.boundary_dofs\n",
    "\n",
    "vertex_ref = topo.get_vertex_ref()\n",
    "\n",
    "vertex_phys = vertex_ref.copy()\n",
    "vertex_phys[:,0] *= 1\n",
    "vertex_phys[:,1] *= 1\n",
    "vertex_phys[:,2] *= 1\n",
    "\n",
    "shift = 0.5*0\n",
    "chi, eta, zeta = vertex_ref.T+shift\n",
    "sx = sy = sz = 0.1\n",
    "vp = vertex_phys\n",
    "sin3  = np.sin(np.pi*chi)*np.sin(np.pi*eta)*np.sin(np.pi*zeta)\n",
    "vp[:,0] = chi +sx*sin3\n",
    "vp[:,1] = eta +sy*sin3\n",
    "vp[:,2] = zeta+sz*sin3"
   ]
  },
  {
   "cell_type": "code",
   "execution_count": null,
   "metadata": {
    "collapsed": true
   },
   "outputs": [],
   "source": [
    "poisson = PoissonProblem(topo, lmap)\n",
    "poisson.build(vertex_phys)"
   ]
  },
  {
   "cell_type": "markdown",
   "metadata": {},
   "source": [
    "# Loo.py apply_A"
   ]
  },
  {
   "cell_type": "code",
   "execution_count": null,
   "metadata": {
    "collapsed": false
   },
   "outputs": [],
   "source": [
    "p = poisson\n",
    "\n",
    "x0 = np.random.rand(p.n_dofs)\n",
    "x  = Q.dot(x0)\n",
    "x  = x.reshape((p.n_elem, -1))\n",
    "x_d = cl.array.to_device(queue, x)\n",
    "\n",
    "G11_d = cl.array.to_device(queue, p.G11)\n",
    "G12_d = cl.array.to_device(queue, p.G12)\n",
    "G13_d = cl.array.to_device(queue, p.G13)\n",
    "\n",
    "G21_d = cl.array.to_device(queue, p.G21)\n",
    "G22_d = cl.array.to_device(queue, p.G22)\n",
    "G23_d = cl.array.to_device(queue, p.G23)\n",
    "\n",
    "G31_d = cl.array.to_device(queue, p.G31)\n",
    "G32_d = cl.array.to_device(queue, p.G32)\n",
    "G33_d = cl.array.to_device(queue, p.G33)\n",
    "\n",
    "D_d   = cl.array.to_device(queue, p.D.copy())"
   ]
  },
  {
   "cell_type": "code",
   "execution_count": null,
   "metadata": {
    "collapsed": false
   },
   "outputs": [],
   "source": [
    "knl = lp.make_kernel(\n",
    "        [\"{ [i,j,k]: 0<=i,j,k<n }\",\n",
    "         \"{ [ii,jj,kk]: 0<=ii,jj,kk<n }\",\n",
    "         \"{ [a1,a2,a3]: 0<=a1,a2,a3<n }\",\n",
    "         \"{ [b1,b2,b3]: 0<=b1,b2,b3<n }\",\n",
    "         \"{ [m,mm]:     0<=m,mm<N }\",\n",
    "         \"{ [ielem]:    0<=ielem<n_elem}\"],\n",
    "        \"\"\"\n",
    "        # Compute initial tensor products\n",
    "        D1[i*n*n+j*n+k]=sum(a1, D[k,a1]*A[ielem,i*n*n+j*n+a1])\n",
    "        D2[i*n*n+j*n+k]=sum(a2, D[j,a2]*A[ielem,i*n*n+a2*n+k])\n",
    "        D3[i*n*n+j*n+k]=sum(a3, D[i,a3]*A[ielem,a3*n*n+j*n+k])\n",
    "        \n",
    "        # Multiply by diagonal factors\n",
    "        tmp1[m] = G11[ielem,m]*D1[m]+G12[ielem,m]*D2[m]+G13[ielem,m]*D3[m] {id=t1}\n",
    "        tmp2[m] = G21[ielem,m]*D1[m]+G22[ielem,m]*D2[m]+G23[ielem,m]*D3[m] {id=t2}\n",
    "        tmp3[m] = G31[ielem,m]*D1[m]+G32[ielem,m]*D2[m]+G33[ielem,m]*D3[m] {id=t3}\n",
    "        \n",
    "        # Apply Transposed tensor products\n",
    "        DT1[ii*n*n+jj*n+kk]=sum(b1, D[b1,kk]*tmp1[ii*n*n+jj*n+b1]) {dep=t1}\n",
    "        DT2[ii*n*n+jj*n+kk]=sum(b2, D[b2,jj]*tmp2[ii*n*n+b2*n+kk]) {dep=t2}\n",
    "        DT3[ii*n*n+jj*n+kk]=sum(b3, D[b3,ii]*tmp3[b3*n*n+jj*n+kk]) {dep=t3}\n",
    "        \n",
    "        # Sum into out\n",
    "        out[ielem,mm] = DT1[mm]+DT2[mm]+DT3[mm]\n",
    "        \n",
    "        \"\"\",\n",
    "        [lp.GlobalArg(\"A\",  np.double, shape=\"n_elem,N\"),\n",
    "         lp.GlobalArg(\"D\",  np.double, \"n,n\"),\n",
    "         lp.GlobalArg(\"G11\",  np.double, \"n_elem,N\"),\n",
    "         lp.GlobalArg(\"G12\",  np.double, \"n_elem,N\"),\n",
    "         lp.GlobalArg(\"G13\",  np.double, \"n_elem,N\"),\n",
    "         lp.GlobalArg(\"G21\",  np.double, \"n_elem,N\"),\n",
    "         lp.GlobalArg(\"G22\",  np.double, \"n_elem,N\"),\n",
    "         lp.GlobalArg(\"G23\",  np.double, \"n_elem,N\"),\n",
    "         lp.GlobalArg(\"G31\",  np.double, \"n_elem,N\"),\n",
    "         lp.GlobalArg(\"G32\",  np.double, \"n_elem,N\"),\n",
    "         lp.GlobalArg(\"G33\",  np.double, \"n_elem,N\"),\n",
    "         lp.GlobalArg(\"D1\", np.double, \"N\"),\n",
    "         lp.GlobalArg(\"D2\", np.double, \"N\"),\n",
    "         lp.GlobalArg(\"D3\", np.double, \"N\"),\n",
    "         lp.GlobalArg(\"DT1\", np.double, \"N\"),\n",
    "         lp.GlobalArg(\"DT2\", np.double, \"N\"),\n",
    "         lp.GlobalArg(\"DT3\", np.double, \"N\"),\n",
    "         lp.GlobalArg(\"tmp1\", np.double, \"N\"),\n",
    "         lp.GlobalArg(\"tmp2\", np.double, \"N\"),\n",
    "         lp.GlobalArg(\"tmp3\", np.double, \"N\"),\n",
    "         lp.GlobalArg(\"out\",  np.double, \"n_elem,N\"),\n",
    "         lp.ValueArg(\"n\", np.int, ),\n",
    "         lp.ValueArg(\"N\", np.int),\n",
    "         lp.ValueArg(\"n_elem\", np.int)])\n",
    "\n",
    "knl = lp.prioritize_loops(knl, \"ielem,k,j,i\")\n",
    "#knl = lp.set_temporary_scope(knl, \"tmp1,tmp2,tmp3\", \"local\")\n",
    "\n",
    "#print lp.generate_code_v2(knl).device_code()"
   ]
  },
  {
   "cell_type": "code",
   "execution_count": null,
   "metadata": {
    "collapsed": false
   },
   "outputs": [],
   "source": [
    "n = NN+1\n",
    "N = n**3\n",
    "\n",
    "b_str = \"\"\"\n",
    "        # Compute initial tensor products\n",
    "        D1[i*n*n+j*n+k]=sum(a1, D[k,a1]*A[ielem,i*n*n+j*n+a1])\n",
    "        D2[i*n*n+j*n+k]=sum(a2, D[j,a2]*A[ielem,i*n*n+a2*n+k])\n",
    "        D3[i*n*n+j*n+k]=sum(a3, D[i,a3]*A[ielem,a3*n*n+j*n+k])\n",
    "        \n",
    "        # Multiply by diagonal factors\n",
    "        tmp1[m] = G11[ielem,m]*D1[m]+G12[ielem,m]*D2[m]+G13[ielem,m]*D3[m] {id=t1}\n",
    "        tmp2[m] = G21[ielem,m]*D1[m]+G22[ielem,m]*D2[m]+G23[ielem,m]*D3[m] {id=t2}\n",
    "        tmp3[m] = G31[ielem,m]*D1[m]+G32[ielem,m]*D2[m]+G33[ielem,m]*D3[m] {id=t3}\n",
    "        \n",
    "        # Apply Transposed tensor products\n",
    "        DT1[ii*n*n+jj*n+kk]=sum(b1, D[b1,kk]*tmp1[ii*n*n+jj*n+b1]) {dep=t1}\n",
    "        DT2[ii*n*n+jj*n+kk]=sum(b2, D[b2,jj]*tmp2[ii*n*n+b2*n+kk]) {dep=t2}\n",
    "        DT3[ii*n*n+jj*n+kk]=sum(b3, D[b3,ii]*tmp3[b3*n*n+jj*n+kk]) {dep=t3}\n",
    "        \n",
    "        # Sum into out\n",
    "        out[ielem,mm] = DT1[mm]+DT2[mm]+DT3[mm]\n",
    "        \n",
    "        \"\"\"\n",
    "b_str = b_str.replace(\"n\", str(n))\n",
    "knl = lp.make_kernel(\n",
    "        [\"{ [i,j,k]: 0<=i,j,k<%i }\"%n,\n",
    "         \"{ [ii,jj,kk]: 0<=ii,jj,kk<%i }\"%n,\n",
    "         \"{ [a1,a2,a3]: 0<=a1,a2,a3<%i }\"%n,\n",
    "         \"{ [b1,b2,b3]: 0<=b1,b2,b3<%i }\"%n,\n",
    "         \"{ [m,mm]:     0<=m,mm<%i }\"%N,\n",
    "         \"{ [ielem]:    0<=ielem<n_elem}\"],\n",
    "        b_str\n",
    "        ,\n",
    "        [lp.GlobalArg(\"A\",  np.double, shape=\"n_elem,%i\"%N),\n",
    "         lp.GlobalArg(\"D\",  np.double, \"%i,%i\"%(n,n)),\n",
    "         lp.GlobalArg(\"G11\",  np.double, \"n_elem,%i\"%N),\n",
    "         lp.GlobalArg(\"G12\",  np.double, \"n_elem,%i\"%N),\n",
    "         lp.GlobalArg(\"G13\",  np.double, \"n_elem,%i\"%N),\n",
    "         lp.GlobalArg(\"G21\",  np.double, \"n_elem,%i\"%N),\n",
    "         lp.GlobalArg(\"G22\",  np.double, \"n_elem,%i\"%N),\n",
    "         lp.GlobalArg(\"G23\",  np.double, \"n_elem,%i\"%N),\n",
    "         lp.GlobalArg(\"G31\",  np.double, \"n_elem,%i\"%N),\n",
    "         lp.GlobalArg(\"G32\",  np.double, \"n_elem,%i\"%N),\n",
    "         lp.GlobalArg(\"G33\",  np.double, \"n_elem,%i\"%N),\n",
    "         lp.TemporaryVariable(\"D1\", np.double, \"%i\"%N),\n",
    "         lp.TemporaryVariable(\"D2\", np.double, \"%i\"%N),\n",
    "         lp.TemporaryVariable(\"D3\", np.double, \"%i\"%N),\n",
    "         lp.TemporaryVariable(\"DT1\", np.double, \"%i\"%N),\n",
    "         lp.TemporaryVariable(\"DT2\", np.double, \"%i\"%N),\n",
    "         lp.TemporaryVariable(\"DT3\", np.double, \"%i\"%N),\n",
    "         lp.TemporaryVariable(\"tmp1\", np.double, \"%i\"%N),\n",
    "         lp.TemporaryVariable(\"tmp2\", np.double, \"%i\"%N),\n",
    "         lp.TemporaryVariable(\"tmp3\", np.double, \"%i\"%N),\n",
    "         lp.GlobalArg(\"out\",  np.double, \"n_elem,%i\"%N),\n",
    "         lp.ValueArg(\"n_elem\", np.int)])\n",
    "\n",
    "knl = lp.prioritize_loops(knl, \"ielem,k,j,i\")\n",
    "knl = lp.tag_inames(knl, dict(ielem='g.0'))\n",
    "\n",
    "print lp.generate_code_v2(knl).device_code()"
   ]
  },
  {
   "cell_type": "code",
   "execution_count": null,
   "metadata": {
    "collapsed": false
   },
   "outputs": [],
   "source": [
    "evt, res = knl(queue, A=x_d, D=D_d, \n",
    "               G11=G11_d, G12=G12_d, G13=G13_d,\n",
    "               G21=G21_d, G22=G22_d, G23=G23_d,\n",
    "               G31=G31_d, G32=G32_d, G33=G33_d)\n",
    "evt.wait()\n",
    "out = res[-1].get().ravel()\n",
    "out = Q.T.dot(out)"
   ]
  },
  {
   "cell_type": "code",
   "execution_count": null,
   "metadata": {
    "collapsed": false
   },
   "outputs": [],
   "source": [
    "mnorm(p.apply_A(x0.ravel())-out)"
   ]
  },
  {
   "cell_type": "code",
   "execution_count": null,
   "metadata": {
    "collapsed": false
   },
   "outputs": [],
   "source": [
    "%timeit knl(queue, A=x_d, D=D_d, \\\n",
    "            G11=G11_d, G12=G12_d, G13=G13_d,\\\n",
    "            G21=G21_d, G22=G22_d, G23=G23_d,\\\n",
    "            G31=G31_d, G32=G32_d, G33=G33_d)[0].wait()"
   ]
  },
  {
   "cell_type": "code",
   "execution_count": null,
   "metadata": {
    "collapsed": false
   },
   "outputs": [],
   "source": [
    "%timeit p.apply_A(x0.ravel())"
   ]
  },
  {
   "cell_type": "code",
   "execution_count": null,
   "metadata": {
    "collapsed": true
   },
   "outputs": [],
   "source": []
  }
 ],
 "metadata": {
  "kernelspec": {
   "display_name": "Python 2",
   "language": "python",
   "name": "python2"
  },
  "language_info": {
   "codemirror_mode": {
    "name": "ipython",
    "version": 2
   },
   "file_extension": ".py",
   "mimetype": "text/x-python",
   "name": "python",
   "nbconvert_exporter": "python",
   "pygments_lexer": "ipython2",
   "version": "2.7.12"
  }
 },
 "nbformat": 4,
 "nbformat_minor": 0
}
