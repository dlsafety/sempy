{
 "cells": [
  {
   "cell_type": "code",
   "execution_count": null,
   "metadata": {
    "collapsed": true
   },
   "outputs": [],
   "source": [
    "%matplotlib inline"
   ]
  },
  {
   "cell_type": "code",
   "execution_count": null,
   "metadata": {
    "collapsed": true
   },
   "outputs": [],
   "source": [
    "import numpy as np\n",
    "from numpy import newaxis as na\n",
    "import scipy\n",
    "import scipy.sparse as sps\n",
    "from scipy.sparse.linalg import spsolve, LinearOperator\n",
    "import matplotlib.pyplot as plt\n",
    "from mpl_toolkits.mplot3d import Axes3D\n",
    "from matplotlib import cm"
   ]
  },
  {
   "cell_type": "code",
   "execution_count": null,
   "metadata": {
    "collapsed": false
   },
   "outputs": [],
   "source": [
    "from pyamg.classical import ruge_stuben_solver\n",
    "from pyfem.sem import SEMhat\n",
    "from pyfem.topo import Interval\n",
    "norm = lambda x: np.max(np.abs(x)) if len(x)>0 else 0.0\n",
    "kron3 = lambda x,y,z: sps.kron(x,sps.kron(y,z))"
   ]
  },
  {
   "cell_type": "markdown",
   "metadata": {},
   "source": [
    "# Setup mesh"
   ]
  },
  {
   "cell_type": "code",
   "execution_count": null,
   "metadata": {
    "collapsed": false
   },
   "outputs": [],
   "source": [
    "N  = 8\n",
    "\n",
    "Ex = 4\n",
    "Ey = Ex\n",
    "Ez = Ex\n",
    "\n",
    "nx      = N+1\n",
    "ny      = N+1\n",
    "nz      = N+1\n",
    "nx_dofs = N*Ex+1\n",
    "ny_dofs = N*Ey+1\n",
    "nz_dofs = N*Ez+1\n",
    "n_elem  = Ex*Ey*Ez\n",
    "\n",
    "periodic = True\n",
    "# periodic = False\n",
    "\n",
    "if periodic:\n",
    "    nx_dofs -= 1\n",
    "    ny_dofs -= 1\n",
    "    nz_dofs -= 1\n",
    "n_dofs = nz_dofs*ny_dofs*nx_dofs\n",
    "    \n",
    "do_assemble = n_dofs<1e5\n",
    "    \n",
    "semh = SEMhat(N)"
   ]
  },
  {
   "cell_type": "code",
   "execution_count": null,
   "metadata": {
    "collapsed": true
   },
   "outputs": [],
   "source": [
    "def l1(X):\n",
    "    return (1.0-X)/2.0\n",
    "def dl1(X):\n",
    "    return -np.ones_like(X)/2.0\n",
    "\n",
    "def l2(X):\n",
    "    return (1.0+X)/2.0\n",
    "def dl2(X):\n",
    "    return np.ones_like(X)/2.0"
   ]
  },
  {
   "cell_type": "code",
   "execution_count": null,
   "metadata": {
    "collapsed": true
   },
   "outputs": [],
   "source": [
    "# def f(X):\n",
    "#     x = X[:,0]\n",
    "#     y = X[:,1]\n",
    "#     z = X[:,2]\n",
    "    \n",
    "#     return np.sin(np.pi*x)*np.sin(np.pi*y)*np.sin(np.pi*z)\n",
    "\n",
    "# def f2(X):\n",
    "#     x = X[:,0]\n",
    "#     y = X[:,1]\n",
    "#     z = X[:,2]\n",
    "    \n",
    "#     return np.sin(np.pi*x)*np.sin(np.pi*y)*np.sin(np.pi*z)*3*(np.pi)**2\n",
    "\n",
    "def f(X):\n",
    "    x = X[:,0]\n",
    "    y = X[:,1]\n",
    "    z = X[:,2]\n",
    "    \n",
    "    p = np.pi*2\n",
    "    r = np.cos(p*x)*np.cos(p*y)*np.cos(p*z)\n",
    "    if not periodic:\n",
    "        r += x\n",
    "    return r\n",
    "\n",
    "def f2(X):\n",
    "    x = X[:,0]\n",
    "    y = X[:,1]\n",
    "    z = X[:,2]\n",
    "    \n",
    "    p = np.pi*2\n",
    "    return np.cos(p*x)*np.cos(p*y)*np.cos(p*z)*3*(p)**2"
   ]
  },
  {
   "cell_type": "code",
   "execution_count": null,
   "metadata": {
    "collapsed": true
   },
   "outputs": [],
   "source": [
    "def ref_to_phys(X, nodes):\n",
    "    \n",
    "    v1 = l1(X)\n",
    "    v2 = l2(X)\n",
    "    v1x, v1y, v1z = v1.T\n",
    "    v2x, v2y, v2z = v2.T\n",
    "    \n",
    "    P = (v1x*v1y*v1z)[:,na]*nodes[0,:]+\\\n",
    "        (v2x*v1y*v1z)[:,na]*nodes[1,:]+\\\n",
    "        (v1x*v2y*v1z)[:,na]*nodes[2,:]+\\\n",
    "        (v2x*v2y*v1z)[:,na]*nodes[3,:]+\\\n",
    "        (v1x*v1y*v2z)[:,na]*nodes[4,:]+\\\n",
    "        (v2x*v1y*v2z)[:,na]*nodes[5,:]+\\\n",
    "        (v1x*v2y*v2z)[:,na]*nodes[6,:]+\\\n",
    "        (v2x*v2y*v2z)[:,na]*nodes[7,:]\n",
    "    \n",
    "    return P\n",
    "\n",
    "def calc_jacb(X, nodes):\n",
    "    \n",
    "    v1 = l1(X)\n",
    "    v2 = l2(X)\n",
    "    v1x, v1y, v1z = v1.T\n",
    "    v2x, v2y, v2z = v2.T\n",
    "    \n",
    "    dv1 = dl1(X)\n",
    "    dv2 = dl2(X)\n",
    "    dv1x, dv1y, dv1z = dv1.T\n",
    "    dv2x, dv2y, dv2z = dv2.T\n",
    "    \n",
    "    J = np.zeros((len(X),3,3))\n",
    "    \n",
    "    t1x, t2x, t3x = ((dv1x*v1y*v1z)[:,na]*nodes[0,:]+\\\n",
    "                     (dv2x*v1y*v1z)[:,na]*nodes[1,:]+\\\n",
    "                     (dv1x*v2y*v1z)[:,na]*nodes[2,:]+\\\n",
    "                     (dv2x*v2y*v1z)[:,na]*nodes[3,:]+\\\n",
    "                     (dv1x*v1y*v2z)[:,na]*nodes[4,:]+\\\n",
    "                     (dv2x*v1y*v2z)[:,na]*nodes[5,:]+\\\n",
    "                     (dv1x*v2y*v2z)[:,na]*nodes[6,:]+\\\n",
    "                     (dv2x*v2y*v2z)[:,na]*nodes[7,:]).T\n",
    "    \n",
    "    t1y, t2y, t3y = ((v1x*dv1y*v1z)[:,na]*nodes[0,:]+\\\n",
    "                     (v2x*dv1y*v1z)[:,na]*nodes[1,:]+\\\n",
    "                     (v1x*dv2y*v1z)[:,na]*nodes[2,:]+\\\n",
    "                     (v2x*dv2y*v1z)[:,na]*nodes[3,:]+\\\n",
    "                     (v1x*dv1y*v2z)[:,na]*nodes[4,:]+\\\n",
    "                     (v2x*dv1y*v2z)[:,na]*nodes[5,:]+\\\n",
    "                     (v1x*dv2y*v2z)[:,na]*nodes[6,:]+\\\n",
    "                     (v2x*dv2y*v2z)[:,na]*nodes[7,:]).T\n",
    "    \n",
    "    t1z, t2z, t3z = ((v1x*v1y*dv1z)[:,na]*nodes[0,:]+\\\n",
    "                     (v2x*v1y*dv1z)[:,na]*nodes[1,:]+\\\n",
    "                     (v1x*v2y*dv1z)[:,na]*nodes[2,:]+\\\n",
    "                     (v2x*v2y*dv1z)[:,na]*nodes[3,:]+\\\n",
    "                     (v1x*v1y*dv2z)[:,na]*nodes[4,:]+\\\n",
    "                     (v2x*v1y*dv2z)[:,na]*nodes[5,:]+\\\n",
    "                     (v1x*v2y*dv2z)[:,na]*nodes[6,:]+\\\n",
    "                     (v2x*v2y*dv2z)[:,na]*nodes[7,:]).T\n",
    "    \n",
    "    J[:,0,0] = t1x\n",
    "    J[:,0,1] = t1y\n",
    "    J[:,0,2] = t1z\n",
    "    J[:,1,0] = t2x\n",
    "    J[:,1,1] = t2y\n",
    "    J[:,1,2] = t2z\n",
    "    J[:,2,0] = t3x\n",
    "    J[:,2,1] = t3y\n",
    "    J[:,2,2] = t3z\n",
    "    \n",
    "    return J"
   ]
  },
  {
   "cell_type": "code",
   "execution_count": null,
   "metadata": {
    "collapsed": false
   },
   "outputs": [],
   "source": [
    "dofx = np.linspace(-1,1,Ex+1)\n",
    "dofy = np.linspace(-1,1,Ey+1)\n",
    "dofz = np.linspace(-1,1,Ez+1)\n",
    "\n",
    "XYZ = np.zeros((Ez+1,Ey+1,Ex+1,3))\n",
    "XYZ[:,:,:,0] = dofx[na,na,:]\n",
    "XYZ[:,:,:,1] = dofy[na,:,na]\n",
    "XYZ[:,:,:,2] = dofz[:,na,na]\n",
    "vertex_ref = XYZ.reshape((-1,3))\n",
    "\n",
    "vertex_phys = vertex_ref.copy()\n",
    "vertex_phys[:,0] *= 1\n",
    "vertex_phys[:,1] *= 1\n",
    "vertex_phys[:,2] *= 1\n",
    "\n",
    "chi, eta, zeta = vertex_ref.T\n",
    "sx = sy = sz = 0.1\n",
    "vp = vertex_phys\n",
    "vp[:,0] = chi +sx*np.sin(np.pi*chi)*np.sin(np.pi*eta)*np.sin(np.pi*zeta)\n",
    "vp[:,1] = eta +sy*np.sin(np.pi*chi)*np.sin(np.pi*eta)*np.sin(np.pi*zeta)\n",
    "vp[:,2] = zeta+sz*np.sin(np.pi*chi)*np.sin(np.pi*eta)*np.sin(np.pi*zeta)\n",
    "\n",
    "etn = np.zeros((n_elem, 8), dtype=np.int)\n",
    "ind = 0\n",
    "for iz in range(Ez):\n",
    "    for iy in range(Ey):\n",
    "        for ix in range(Ex):\n",
    "            etn[ind, 0] = ix+iy*(Ex+1)\n",
    "            etn[ind, 1] = ix+iy*(Ex+1)+1\n",
    "            etn[ind, 2] = ix+(iy+1)*(Ex+1)\n",
    "            etn[ind, 3] = ix+(iy+1)*(Ex+1)+1\n",
    "            etn[ind,:4] += iz*(Ex+1)*(Ey+1)\n",
    "            etn[ind,4:] = etn[ind,:4]+(Ex+1)*(Ey+1)\n",
    "            ind += 1"
   ]
  },
  {
   "cell_type": "code",
   "execution_count": null,
   "metadata": {
    "collapsed": false
   },
   "outputs": [],
   "source": [
    "# Build restriction operator\n",
    "if periodic:\n",
    "    R0x = sps.eye(nx_dofs)\n",
    "    R0y = sps.eye(ny_dofs)\n",
    "    R0z = sps.eye(nz_dofs)\n",
    "else:\n",
    "    R0x = sps.dia_matrix((np.ones(nx_dofs),1),\n",
    "                          shape=(nx_dofs-2,nx_dofs))\n",
    "    R0y = sps.dia_matrix((np.ones(ny_dofs),1),\n",
    "                          shape=(ny_dofs-2,ny_dofs))\n",
    "    R0z = sps.dia_matrix((np.ones(nz_dofs),1),\n",
    "                          shape=(nz_dofs-2,nz_dofs))\n",
    "\n",
    "R = kron3(R0z, R0y, R0x)\n",
    "\n",
    "if not periodic:\n",
    "    bd = set(np.arange(n_dofs))-set(R.dot(np.arange(n_dofs)))\n",
    "    boundary_dofs = np.sort(np.array(list(bd)))\n",
    "else:\n",
    "    boundary_dofs = np.array([],dtype=np.int)\n",
    "\n",
    "boundary_dofs.sort()"
   ]
  },
  {
   "cell_type": "code",
   "execution_count": null,
   "metadata": {
    "collapsed": false
   },
   "outputs": [],
   "source": [
    "etd = np.zeros((n_elem, nx*ny*nz), dtype=np.int)\n",
    "rngx = np.arange(nx)\n",
    "rngy = np.arange(ny)\n",
    "rngz = np.arange(nz)\n",
    "nxy_dofs = nx_dofs*ny_dofs\n",
    "\n",
    "ind = 0\n",
    "for iz in range(Ez):\n",
    "    for iy in range(Ey):\n",
    "        for ix in range(Ex):\n",
    "            indz = iz*N\n",
    "            indy = iy*N\n",
    "            indx = ix*N\n",
    "\n",
    "            e  = (rngx[na,na,:]+indx)%nx_dofs+\\\n",
    "                 ((rngy[na,:,na]+indy)*nx_dofs)%nxy_dofs+\\\n",
    "                 (rngz[:,na,na]+indz)*nxy_dofs\n",
    "            e = e%n_dofs\n",
    "            etd[ind,:] = e.ravel()\n",
    "\n",
    "            ind += 1\n",
    "        \n",
    "cols = etd.ravel()\n",
    "rows = np.arange(len(cols))\n",
    "vals = np.ones(len(cols))\n",
    "Q = sps.coo_matrix((vals,(rows,cols))).tocsr()"
   ]
  },
  {
   "cell_type": "markdown",
   "metadata": {},
   "source": [
    "# Poisson"
   ]
  },
  {
   "cell_type": "code",
   "execution_count": null,
   "metadata": {
    "collapsed": false
   },
   "outputs": [],
   "source": [
    "wgll = semh.wgll\n",
    "wv   = (wgll[:,na,na]*wgll[na,:,na]*wgll[na,na,:]).ravel()\n",
    "\n",
    "xgll = semh.xgll\n",
    "n = len(xgll)\n",
    "quad_ref = np.zeros((n,n,n,3))\n",
    "quad_ref[:,:,:,0] = xgll[na,na,:]\n",
    "quad_ref[:,:,:,1] = xgll[na,:,na]\n",
    "quad_ref[:,:,:,2] = xgll[:,na,na]\n",
    "quad_ref = quad_ref.reshape((-1,3))"
   ]
  },
  {
   "cell_type": "code",
   "execution_count": null,
   "metadata": {
    "collapsed": false
   },
   "outputs": [],
   "source": [
    "# build Gij\n",
    "G11 = []\n",
    "G12 = []\n",
    "G13 = []\n",
    "G21 = []\n",
    "G22 = []\n",
    "G23 = []\n",
    "G31 = []\n",
    "G32 = []\n",
    "G33 = []\n",
    "\n",
    "nn = nx*ny*nz\n",
    "s  = (nn, nn)\n",
    "dof_phys = np.zeros((nx_dofs*ny_dofs*nz_dofs, 3))\n",
    "wvals    = np.zeros(nx_dofs*ny_dofs*nz_dofs)\n",
    "    \n",
    "for i in range(n_elem):\n",
    "     \n",
    "    ver = vertex_phys[etn[i]]\n",
    "    J   = calc_jacb(quad_ref, ver)\n",
    "    Ji  = np.linalg.inv(J)\n",
    "    j   = np.linalg.det(J).ravel()\n",
    "    dof_phys[etd[i],:] = ref_to_phys(quad_ref, ver)\n",
    "\n",
    "    G0 = np.matmul(Ji, np.transpose(Ji, (0,2,1)))\n",
    "    G0 *= (wv*j)[:,na,na]\n",
    "    wvals[etd[i]] += (wv*j)\n",
    "    \n",
    "    G11 += [sps.dia_matrix((G0[:,0,0], 0), shape=s)]\n",
    "    G12 += [sps.dia_matrix((G0[:,0,1], 0), shape=s)]\n",
    "    G13 += [sps.dia_matrix((G0[:,0,2], 0), shape=s)]\n",
    "    \n",
    "    G21 += [sps.dia_matrix((G0[:,1,0], 0), shape=s)]\n",
    "    G22 += [sps.dia_matrix((G0[:,1,1], 0), shape=s)]\n",
    "    G23 += [sps.dia_matrix((G0[:,1,2], 0), shape=s)]\n",
    "    \n",
    "    G31 += [sps.dia_matrix((G0[:,2,0], 0), shape=s)]\n",
    "    G32 += [sps.dia_matrix((G0[:,2,1], 0), shape=s)]\n",
    "    G33 += [sps.dia_matrix((G0[:,2,2], 0), shape=s)]"
   ]
  },
  {
   "cell_type": "code",
   "execution_count": null,
   "metadata": {
    "collapsed": false
   },
   "outputs": [],
   "source": [
    "# Build poisson stiffness matrix A\n",
    "\n",
    "D1 = kron3(sps.eye(nz), sps.eye(ny), semh.Dh)\n",
    "D2 = kron3(sps.eye(nz), semh.Dh,     sps.eye(nx))\n",
    "D3 = kron3(semh.Dh,     sps.eye(ny), sps.eye(nx))\n",
    "\n",
    "if do_assemble:\n",
    "    A0a = []\n",
    "    for i in range(n_elem):\n",
    "        A0a += [D1.T.dot(G11[i].dot(D1)+G12[i].dot(D2)+G13[i].dot(D3))+\\\n",
    "                D2.T.dot(G21[i].dot(D1)+G22[i].dot(D2)+G23[i].dot(D3))+\\\n",
    "                D3.T.dot(G31[i].dot(D1)+G32[i].dot(D2)+G33[i].dot(D3))]\n",
    "    A0 = sps.block_diag(A0a).tocsr()\n",
    "    A0 = Q.T.dot(A0.dot(Q))\n",
    "    A  = R.dot(A0.dot(R.T))\n",
    "\n",
    "# Build mass matrix B\n",
    "nd = nx_dofs*ny_dofs*nz_dofs\n",
    "b = wvals\n",
    "# Bl is not the local mass matrix.\n",
    "# I am just using bad notation here\n",
    "Bl = sps.dia_matrix((b, 0), shape=(nd,nd))\n",
    "Binv_data = (1.0/Bl.data).ravel()\n",
    "Binv_data = R.dot(Binv_data)"
   ]
  },
  {
   "cell_type": "code",
   "execution_count": null,
   "metadata": {
    "collapsed": false
   },
   "outputs": [],
   "source": [
    "def apply_A(x, apply_R=True, apply_Q=True):\n",
    "    \n",
    "    if apply_R:\n",
    "        x = R.T.dot(x)\n",
    "    if apply_Q:\n",
    "        x = Q.dot(x)\n",
    "    x = x.reshape((n_elem, -1))\n",
    "    y = np.zeros_like(x)\n",
    "    for i in xrange(n_elem):\n",
    "        Dx = D1.dot(x[i])\n",
    "        y[i] += D1.T.dot(G11[i].dot(Dx))\n",
    "        y[i] += D2.T.dot(G21[i].dot(Dx))\n",
    "        y[i] += D3.T.dot(G31[i].dot(Dx))\n",
    "        Dx = D2.dot(x[i])\n",
    "        y[i] += D1.T.dot(G12[i].dot(Dx))\n",
    "        y[i] += D2.T.dot(G22[i].dot(Dx))\n",
    "        y[i] += D3.T.dot(G32[i].dot(Dx))\n",
    "        Dx = D3.dot(x[i])\n",
    "        y[i] += D1.T.dot(G13[i].dot(Dx))\n",
    "        y[i] += D2.T.dot(G23[i].dot(Dx))\n",
    "        y[i] += D3.T.dot(G33[i].dot(Dx))\n",
    "        \n",
    "    y = y.ravel()\n",
    "    if apply_Q:\n",
    "        y = Q.T.dot(y)\n",
    "    if apply_R:\n",
    "        y = R.dot(y)\n",
    "\n",
    "    return y\n",
    "\n",
    "if periodic:\n",
    "    nn = n_dofs\n",
    "else:\n",
    "    nn = (nz_dofs-2)*(ny_dofs-2)*(nx_dofs-2)\n",
    "\n",
    "linOp = LinearOperator((nn, nn), matvec=apply_A)"
   ]
  },
  {
   "cell_type": "markdown",
   "metadata": {},
   "source": [
    "## Solve System"
   ]
  },
  {
   "cell_type": "code",
   "execution_count": null,
   "metadata": {
    "collapsed": true
   },
   "outputs": [],
   "source": [
    "fh  = f2(dof_phys)\n",
    "fl = fh\n",
    "rhs = Bl.dot(fl)\n",
    "radj = np.zeros(nx_dofs*ny_dofs*nz_dofs)\n",
    "radj[boundary_dofs] = f(dof_phys)[boundary_dofs]\n",
    "rhs = R.dot(rhs-apply_A(radj, apply_R=False))\n",
    "exact = f(dof_phys)\n",
    "\n",
    "if periodic:\n",
    "    rhs -= np.mean(rhs)    "
   ]
  },
  {
   "cell_type": "code",
   "execution_count": null,
   "metadata": {
    "collapsed": false
   },
   "outputs": [],
   "source": [
    "# Check apply_A against full matrix\n",
    "if do_assemble:\n",
    "    print norm(apply_A(rhs)-A.dot(rhs))"
   ]
  },
  {
   "cell_type": "markdown",
   "metadata": {},
   "source": [
    "### Solve with AMG"
   ]
  },
  {
   "cell_type": "code",
   "execution_count": null,
   "metadata": {
    "collapsed": false
   },
   "outputs": [],
   "source": [
    "if do_assemble:\n",
    "    ml = ruge_stuben_solver(A)\n",
    "    residuals = []\n",
    "    sol = R.T.dot(ml.solve(rhs, tol=1e-14, \n",
    "                           maxiter=500, residuals=residuals,\n",
    "                           accel='cg'))\n",
    "    sol[boundary_dofs] = f(dof_phys)[boundary_dofs]\n",
    "\n",
    "    \n",
    "    if periodic:\n",
    "        sol   -= sol[0]\n",
    "        exact -= exact[0]\n",
    "\n",
    "    print len(residuals), residuals[-1]\n",
    "    print \n",
    "    print norm(exact-sol)/norm(exact)"
   ]
  },
  {
   "cell_type": "markdown",
   "metadata": {},
   "source": [
    "### Solve with CG"
   ]
  },
  {
   "cell_type": "code",
   "execution_count": null,
   "metadata": {
    "collapsed": false
   },
   "outputs": [],
   "source": [
    "class CB(object):\n",
    "    def __init__(self):\n",
    "        self.n_iter = 0\n",
    "    def __call__(self, x):\n",
    "        self.n_iter += 1\n",
    "        \n",
    "cb = CB()\n",
    "solcg, errc = sps.linalg.cg(linOp, rhs, tol=1e-14, \n",
    "                            maxiter=2000, callback=cb)\n",
    "solcg = R.T.dot(solcg)\n",
    "if periodic:\n",
    "    solcg -= solcg[0]\n",
    "    exact -= exact[0]\n",
    "else:\n",
    "    solcg[boundary_dofs] = f(dof_phys[boundary_dofs])\n",
    "    \n",
    "print cb.n_iter, norm(rhs-apply_A(R.dot(solcg)))\n",
    "print\n",
    "print norm(exact-solcg)/norm(exact)\n",
    "if do_assemble:\n",
    "    print norm(sol-solcg)"
   ]
  },
  {
   "cell_type": "code",
   "execution_count": null,
   "metadata": {
    "collapsed": false
   },
   "outputs": [],
   "source": [
    "dp = dof_phys.reshape((nz_dofs,ny_dofs,nx_dofs,3))\n",
    "if periodic:\n",
    "    dp = dp.copy()\n",
    "    dp[dp==1.0] = -1.0\n",
    "ds = solcg.reshape((nz_dofs,ny_dofs,nx_dofs))"
   ]
  },
  {
   "cell_type": "code",
   "execution_count": null,
   "metadata": {
    "collapsed": false
   },
   "outputs": [],
   "source": [
    "fig = plt.figure()\n",
    "ax = fig.gca(projection='3d')\n",
    "s = (ny_dofs,nx_dofs)\n",
    "k = int(0.4*nz_dofs)\n",
    "X = dp[k,:,:,0]\n",
    "Y = dp[k,:,:,1]\n",
    "\n",
    "ax.plot_wireframe(X, Y, exact.reshape((nz_dofs,ny_dofs,nx_dofs))[k,:,:])\n",
    "ax.plot_wireframe(X, Y, ds[k,:,:].reshape(s),\n",
    "                  color='g')\n",
    "plt.show()"
   ]
  },
  {
   "cell_type": "code",
   "execution_count": null,
   "metadata": {
    "collapsed": false
   },
   "outputs": [],
   "source": [
    "plt.scatter(X,Y)"
   ]
  },
  {
   "cell_type": "code",
   "execution_count": null,
   "metadata": {
    "collapsed": true
   },
   "outputs": [],
   "source": []
  }
 ],
 "metadata": {
  "kernelspec": {
   "display_name": "Python 2",
   "language": "python",
   "name": "python2"
  },
  "language_info": {
   "codemirror_mode": {
    "name": "ipython",
    "version": 2
   },
   "file_extension": ".py",
   "mimetype": "text/x-python",
   "name": "python",
   "nbconvert_exporter": "python",
   "pygments_lexer": "ipython2",
   "version": "2.7.12"
  }
 },
 "nbformat": 4,
 "nbformat_minor": 0
}
