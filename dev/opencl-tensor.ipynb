{
 "cells": [
  {
   "cell_type": "code",
   "execution_count": null,
   "metadata": {
    "collapsed": true
   },
   "outputs": [],
   "source": [
    "%matplotlib inline"
   ]
  },
  {
   "cell_type": "code",
   "execution_count": null,
   "metadata": {
    "collapsed": false
   },
   "outputs": [],
   "source": [
    "import numpy as np\n",
    "import pyopencl as cl\n",
    "import pyopencl.array\n",
    "import pyopencl.algorithm\n",
    "import matplotlib.pyplot as plt\n",
    "norm = lambda x: np.max(np.abs(x))"
   ]
  },
  {
   "cell_type": "code",
   "execution_count": null,
   "metadata": {
    "collapsed": true
   },
   "outputs": [],
   "source": [
    "ctx = cl.create_some_context()\n",
    "queue = cl.CommandQueue(ctx)"
   ]
  },
  {
   "cell_type": "code",
   "execution_count": null,
   "metadata": {
    "collapsed": false
   },
   "outputs": [],
   "source": [
    "with open(\"tensor.cl\") as f:\n",
    "    code = f.read()\n",
    "\n",
    "prg = cl.Program(ctx, code).build()\n",
    "\n",
    "matvec_single = prg.matvec_single\n",
    "matvec_single.set_scalar_arg_dtypes([None, None, None, np.int32])\n",
    "\n",
    "matmat_single = prg.matmat_single\n",
    "matmat_single.set_scalar_arg_dtypes([None, None, None, \n",
    "                                     np.int32, np.int32])\n"
   ]
  },
  {
   "cell_type": "code",
   "execution_count": null,
   "metadata": {
    "collapsed": false
   },
   "outputs": [],
   "source": [
    "n = 16*10**2\n",
    "k = 10\n",
    "\n",
    "x_d = cl.array.arange(queue, n, dtype=np.double)/n\n",
    "A_d = cl.array.arange(queue, n*n, dtype=np.double).reshape((n,n))/(n*n)\n",
    "M_d = cl.array.arange(queue, n*k, dtype=np.double).reshape((n,k))/(n*k)\n",
    "x = x_d.get()\n",
    "A = A_d.get()\n",
    "M = M_d.get()\n",
    "b = A.dot(x)\n",
    "B = A.dot(M)"
   ]
  },
  {
   "cell_type": "markdown",
   "metadata": {},
   "source": [
    "## Matvec Single"
   ]
  },
  {
   "cell_type": "code",
   "execution_count": null,
   "metadata": {
    "collapsed": false
   },
   "outputs": [],
   "source": [
    "b_d = cl.array.Array(queue, n, dtype=np.double)\n",
    "evt = matvec_single(queue, (4,), None, \n",
    "                    A_d.data, x_d.data, b_d.data, n)\n",
    "\n",
    "norm(b_d.get()-b)"
   ]
  },
  {
   "cell_type": "markdown",
   "metadata": {},
   "source": [
    "## Matmat Single"
   ]
  },
  {
   "cell_type": "code",
   "execution_count": null,
   "metadata": {
    "collapsed": false
   },
   "outputs": [],
   "source": [
    "B_d = cl.array.Array(queue, n*k, dtype=np.double)\n",
    "evt = matmat_single(queue, (4,), None, \n",
    "                    A_d.data, M_d.data, B_d.data, n, k)\n",
    "\n",
    "norm(B_d.get()-B.ravel())"
   ]
  },
  {
   "cell_type": "code",
   "execution_count": null,
   "metadata": {
    "collapsed": true
   },
   "outputs": [],
   "source": []
  }
 ],
 "metadata": {
  "kernelspec": {
   "display_name": "Python 2",
   "language": "python",
   "name": "python2"
  },
  "language_info": {
   "codemirror_mode": {
    "name": "ipython",
    "version": 2
   },
   "file_extension": ".py",
   "mimetype": "text/x-python",
   "name": "python",
   "nbconvert_exporter": "python",
   "pygments_lexer": "ipython2",
   "version": "2.7.12"
  }
 },
 "nbformat": 4,
 "nbformat_minor": 0
}
