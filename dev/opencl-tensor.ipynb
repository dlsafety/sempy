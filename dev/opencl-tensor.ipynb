{
 "cells": [
  {
   "cell_type": "code",
   "execution_count": null,
   "metadata": {
    "collapsed": false
   },
   "outputs": [],
   "source": [
    "#%matplotlib inline"
   ]
  },
  {
   "cell_type": "code",
   "execution_count": null,
   "metadata": {
    "collapsed": false
   },
   "outputs": [],
   "source": [
    "import numpy as np\n",
    "import pyopencl as cl\n",
    "import pyopencl.array\n",
    "import pyopencl.algorithm\n",
    "import pyopencl.clrandom\n",
    "import matplotlib.pyplot as plt\n",
    "norm = lambda x: np.max(np.abs(x))"
   ]
  },
  {
   "cell_type": "code",
   "execution_count": null,
   "metadata": {
    "collapsed": true
   },
   "outputs": [],
   "source": [
    "ctx = cl.create_some_context()\n",
    "queue = cl.CommandQueue(ctx)"
   ]
  },
  {
   "cell_type": "code",
   "execution_count": null,
   "metadata": {
    "collapsed": false
   },
   "outputs": [],
   "source": [
    "with open(\"tensor.cl\") as f:\n",
    "    code = f.read()\n",
    "\n",
    "prg = cl.Program(ctx, code).build()\n",
    "\n",
    "matvec_single = prg.matvec_single\n",
    "matvec_single.set_scalar_arg_dtypes([None, None, None, np.int32])\n",
    "\n",
    "matvec_tile = prg.matvec_tile\n",
    "matvec_tile.set_scalar_arg_dtypes([None, None, None, \n",
    "                                   np.int32, np.int32])\n",
    "\n",
    "matmat_single = prg.matmat_single\n",
    "matmat_single.set_scalar_arg_dtypes([None, None, None, \n",
    "                                     np.int32, np.int32])\n",
    "\n",
    "matmat_tile = prg.matmat_tile\n",
    "matmat_tile.set_scalar_arg_dtypes([None, None, None, \n",
    "                                   np.int32, np.int32, np.int32])\n",
    "\n",
    "tensor_IIA_single = prg.tensor_IIA_single\n",
    "tensor_IIA_single.set_scalar_arg_dtypes([None, None, None, np.int32])\n",
    "\n",
    "tensor_IIA_tile = prg.tensor_IIA_tile\n",
    "tensor_IIA_tile.set_scalar_arg_dtypes([None, None, None, \n",
    "                                       np.int32, np.int32])\n",
    "\n",
    "tensor_IAI_single = prg.tensor_IAI_single\n",
    "tensor_IAI_single.set_scalar_arg_dtypes([None, None, None, np.int32])\n",
    "\n",
    "tensor_IAI_tile = prg.tensor_IAI_tile\n",
    "tensor_IAI_tile.set_scalar_arg_dtypes([None, None, None, \n",
    "                                       np.int32, np.int32])\n",
    "\n",
    "tensor_AII_single = prg.tensor_AII_single\n",
    "tensor_AII_single.set_scalar_arg_dtypes([None, None, None, np.int32])\n",
    "\n",
    "tensor_AII_tile = prg.tensor_AII_tile\n",
    "tensor_AII_tile.set_scalar_arg_dtypes([None, None, None, \n",
    "                                       np.int32, np.int32])"
   ]
  },
  {
   "cell_type": "markdown",
   "metadata": {},
   "source": [
    "# Matrix Matrix Products"
   ]
  },
  {
   "cell_type": "code",
   "execution_count": null,
   "metadata": {
    "collapsed": false
   },
   "outputs": [],
   "source": [
    "tile_size = 16\n",
    "\n",
    "n = 16*10**2\n",
    "k = n\n",
    "\n",
    "x_d = cl.array.arange(queue, n, dtype=np.double)/n\n",
    "A_d = cl.array.arange(queue, n*n, dtype=np.double).reshape((n,n))/(n*n)\n",
    "M_d = cl.array.arange(queue, n*k, dtype=np.double).reshape((n,k))/(n*k)\n",
    "x = x_d.get()\n",
    "A = A_d.get()\n",
    "M = M_d.get()\n",
    "b = A.dot(x)\n",
    "B = A.dot(M)"
   ]
  },
  {
   "cell_type": "markdown",
   "metadata": {},
   "source": [
    "### Matvec Single"
   ]
  },
  {
   "cell_type": "code",
   "execution_count": null,
   "metadata": {
    "collapsed": false
   },
   "outputs": [],
   "source": [
    "b_d = cl.array.Array(queue, n, dtype=np.double)\n",
    "evt = matvec_single(queue, (4,), None, \n",
    "                    A_d.data, x_d.data, b_d.data, n)\n",
    "\n",
    "norm(b_d.get()-b)"
   ]
  },
  {
   "cell_type": "code",
   "execution_count": null,
   "metadata": {
    "collapsed": false
   },
   "outputs": [],
   "source": [
    "# %timeit matvec_single(queue, (4,), None,\\\n",
    "#                       A_d.data, x_d.data, b_d.data, n).wait()"
   ]
  },
  {
   "cell_type": "markdown",
   "metadata": {},
   "source": [
    "### Matvec Tile"
   ]
  },
  {
   "cell_type": "code",
   "execution_count": null,
   "metadata": {
    "collapsed": false
   },
   "outputs": [],
   "source": [
    "b_d = cl.array.Array(queue, n, dtype=np.double)\n",
    "b_d[:] = 0.0\n",
    "evt = matvec_tile(queue, (4,), None, \n",
    "                  A_d.data, x_d.data, b_d.data, \n",
    "                  n, tile_size)\n",
    "\n",
    "norm(b_d.get()-b)"
   ]
  },
  {
   "cell_type": "code",
   "execution_count": null,
   "metadata": {
    "collapsed": false
   },
   "outputs": [],
   "source": [
    "# %timeit matvec_tile(queue, (4,), None,\\\n",
    "#                     A_d.data, x_d.data, b_d.data,\\\n",
    "#                     n, tile_size).wait()"
   ]
  },
  {
   "cell_type": "markdown",
   "metadata": {},
   "source": [
    "### Matmat Single"
   ]
  },
  {
   "cell_type": "code",
   "execution_count": null,
   "metadata": {
    "collapsed": false
   },
   "outputs": [],
   "source": [
    "B_d = cl.array.Array(queue, n*k, dtype=np.double)\n",
    "evt = matmat_single(queue, (4,), None, \n",
    "                    A_d.data, M_d.data, B_d.data, n, k)\n",
    "\n",
    "norm(B_d.get()-B.ravel())"
   ]
  },
  {
   "cell_type": "code",
   "execution_count": null,
   "metadata": {
    "collapsed": false
   },
   "outputs": [],
   "source": [
    "# %timeit matmat_single(queue, (4,), None,\\\n",
    "#                       A_d.data, M_d.data, B_d.data, n, k).wait()"
   ]
  },
  {
   "cell_type": "markdown",
   "metadata": {},
   "source": [
    "### Matmat Single"
   ]
  },
  {
   "cell_type": "code",
   "execution_count": null,
   "metadata": {
    "collapsed": false
   },
   "outputs": [],
   "source": [
    "B_d = cl.array.Array(queue, n*k, dtype=np.double)\n",
    "evt = matmat_tile(queue, (4,), None, \n",
    "                  A_d.data, M_d.data, B_d.data, \n",
    "                  n, k, tile_size)\n",
    "\n",
    "norm(B_d.get()-B.ravel())"
   ]
  },
  {
   "cell_type": "code",
   "execution_count": null,
   "metadata": {
    "collapsed": false
   },
   "outputs": [],
   "source": [
    "# %timeit matmat_tile(queue, (4,), None,\\\n",
    "#                     A_d.data, M_d.data, B_d.data,\\\n",
    "#                     n, k, tile_size).wait()"
   ]
  },
  {
   "cell_type": "markdown",
   "metadata": {
    "collapsed": true
   },
   "source": [
    "# Tensor products"
   ]
  },
  {
   "cell_type": "code",
   "execution_count": null,
   "metadata": {
    "collapsed": false
   },
   "outputs": [],
   "source": [
    "tile_size = 16\n",
    "\n",
    "n = 16*16\n",
    "\n",
    "A_d = cl.array.arange(queue, n*n, \n",
    "                      dtype=np.double).reshape((n,n))/(n*n)\n",
    "M_d = cl.array.arange(queue, n*n*n, \n",
    "                      dtype=np.double).reshape((n,n,n))/(n**3)\n",
    "B_d = cl.array.arange(queue, n*n*n, \n",
    "                      dtype=np.double).reshape((n,n,n))/(n**3)\n",
    "A = A_d.get()\n",
    "M = M_d.get()\n",
    "\n",
    "IIA = np.einsum('kj,...ij', A, M)\n",
    "IAI = np.einsum('ij,...jk', A, M)\n",
    "AII = np.einsum('ij,jkl', A, M)"
   ]
  },
  {
   "cell_type": "markdown",
   "metadata": {},
   "source": [
    "### $I\\otimes I \\otimes A$"
   ]
  },
  {
   "cell_type": "code",
   "execution_count": null,
   "metadata": {
    "collapsed": false
   },
   "outputs": [],
   "source": [
    "B_d[:] = 0.0\n",
    "evt = tensor_IIA_single(queue, (4,), None, \n",
    "                        A_d.data, M_d.data, B_d.data, n)\n",
    "\n",
    "norm(B_d.get()-IIA)"
   ]
  },
  {
   "cell_type": "code",
   "execution_count": null,
   "metadata": {
    "collapsed": false
   },
   "outputs": [],
   "source": [
    "B_d[:] = 0.0\n",
    "evt = tensor_IIA_tile(queue, (4,), None, \n",
    "                      A_d.data, M_d.data, B_d.data, n, tile_size)\n",
    "\n",
    "norm(B_d.get()-IIA)"
   ]
  },
  {
   "cell_type": "markdown",
   "metadata": {},
   "source": [
    "### $I\\otimes A \\otimes I$"
   ]
  },
  {
   "cell_type": "code",
   "execution_count": null,
   "metadata": {
    "collapsed": false
   },
   "outputs": [],
   "source": [
    "B_d[:] = 0.0\n",
    "evt = tensor_IAI_single(queue, (4,), None, \n",
    "                        A_d.data, M_d.data, B_d.data, n)\n",
    "\n",
    "norm(B_d.get()-IAI)"
   ]
  },
  {
   "cell_type": "code",
   "execution_count": null,
   "metadata": {
    "collapsed": false
   },
   "outputs": [],
   "source": [
    "B_d[:] = 0.0\n",
    "evt = tensor_IAI_tile(queue, (4,), None, \n",
    "                      A_d.data, M_d.data, B_d.data, n, tile_size)\n",
    "\n",
    "norm(B_d.get()-IAI)"
   ]
  },
  {
   "cell_type": "markdown",
   "metadata": {},
   "source": [
    "### $A\\otimes I \\otimes I$"
   ]
  },
  {
   "cell_type": "code",
   "execution_count": null,
   "metadata": {
    "collapsed": false
   },
   "outputs": [],
   "source": [
    "B_d[:] = 0.0\n",
    "evt = tensor_AII_single(queue, (4,), None, \n",
    "                        A_d.data, M_d.data, B_d.data, n)\n",
    "\n",
    "norm(B_d.get()-AII)"
   ]
  },
  {
   "cell_type": "code",
   "execution_count": null,
   "metadata": {
    "collapsed": false
   },
   "outputs": [],
   "source": [
    "B_d[:] = 0.0\n",
    "evt = tensor_AII_tile(queue, (4,), None, \n",
    "                      A_d.data, M_d.data, B_d.data, n, tile_size)\n",
    "\n",
    "norm(B_d.get()-AII)"
   ]
  },
  {
   "cell_type": "code",
   "execution_count": null,
   "metadata": {
    "collapsed": true
   },
   "outputs": [],
   "source": []
  }
 ],
 "metadata": {
  "kernelspec": {
   "display_name": "Python 2",
   "language": "python",
   "name": "python2"
  },
  "language_info": {
   "codemirror_mode": {
    "name": "ipython",
    "version": 2
   },
   "file_extension": ".py",
   "mimetype": "text/x-python",
   "name": "python",
   "nbconvert_exporter": "python",
   "pygments_lexer": "ipython2",
   "version": "2.7.12"
  }
 },
 "nbformat": 4,
 "nbformat_minor": 0
}
