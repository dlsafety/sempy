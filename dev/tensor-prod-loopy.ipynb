{
 "cells": [
  {
   "cell_type": "code",
   "execution_count": null,
   "metadata": {
    "collapsed": true
   },
   "outputs": [],
   "source": [
    "%matplotlib inline"
   ]
  },
  {
   "cell_type": "code",
   "execution_count": null,
   "metadata": {
    "collapsed": false
   },
   "outputs": [],
   "source": [
    "import numpy as np\n",
    "import scipy.sparse as sps\n",
    "import matplotlib.pyplot as plt"
   ]
  },
  {
   "cell_type": "code",
   "execution_count": null,
   "metadata": {
    "collapsed": true
   },
   "outputs": [],
   "source": [
    "import pyopencl as cl\n",
    "import pyopencl.array\n",
    "import loopy as lp"
   ]
  },
  {
   "cell_type": "code",
   "execution_count": null,
   "metadata": {
    "collapsed": true
   },
   "outputs": [],
   "source": [
    "ctx = cl.create_some_context()\n",
    "queue = cl.CommandQueue(ctx)"
   ]
  },
  {
   "cell_type": "code",
   "execution_count": null,
   "metadata": {
    "collapsed": true
   },
   "outputs": [],
   "source": [
    "mnorm = lambda x: np.max(np.abs(x))\n",
    "def kron3(A, B, C):\n",
    "    return sps.kron(A, sps.kron(B, C))"
   ]
  },
  {
   "cell_type": "markdown",
   "metadata": {},
   "source": [
    "## 3D einsum tests"
   ]
  },
  {
   "cell_type": "code",
   "execution_count": null,
   "metadata": {
    "collapsed": true
   },
   "outputs": [],
   "source": [
    "n = 64\n",
    "I = sps.eye(n)\n",
    "D = np.random.rand(n, n)\n",
    "D1 = kron3(I, I, D)\n",
    "D2 = kron3(I, D, I)\n",
    "D3 = kron3(D, I, I)"
   ]
  },
  {
   "cell_type": "code",
   "execution_count": null,
   "metadata": {
    "collapsed": true
   },
   "outputs": [],
   "source": [
    "A  = np.random.rand(n,n,n)\n",
    "Ar = A.ravel()"
   ]
  },
  {
   "cell_type": "code",
   "execution_count": null,
   "metadata": {
    "collapsed": true
   },
   "outputs": [],
   "source": [
    "A_d = cl.array.to_device(queue, A)\n",
    "D_d = cl.array.to_device(queue, D)"
   ]
  },
  {
   "cell_type": "markdown",
   "metadata": {},
   "source": [
    "$I\\otimes I\\otimes D$"
   ]
  },
  {
   "cell_type": "code",
   "execution_count": null,
   "metadata": {
    "collapsed": false
   },
   "outputs": [],
   "source": [
    "knl = lp.make_kernel(\n",
    "        \"{ [i,j,k,a]: 0<=a,i,j,k<n }\",\n",
    "        \"out[i,j,k]=sum(a, D[k,a]*A[i,j,a])\")\n",
    "knl = lp.set_options(knl, \"write_cl\")\n",
    "\n",
    "knl = lp.prioritize_loops(knl, \"i,j,k\")\n",
    "\n",
    "#knl = lp.split_iname(knl, 'i', 16, outer_tag='g.0')\n",
    "\n",
    "out_d = cl.array.zeros_like(A_d)\n",
    "evt, _ = knl(queue, D=D_d, A=A_d, out=out_d)\n",
    "evt.wait()\n",
    "\n",
    "print mnorm(out_d.get().ravel()-D1.dot(Ar))"
   ]
  },
  {
   "cell_type": "code",
   "execution_count": null,
   "metadata": {
    "collapsed": false
   },
   "outputs": [],
   "source": [
    "%timeit knl(queue, D=D_d, A=A_d, out=out_d)[0].wait()"
   ]
  },
  {
   "cell_type": "code",
   "execution_count": null,
   "metadata": {
    "collapsed": false
   },
   "outputs": [],
   "source": [
    "%timeit np.einsum('kj,aij', D, A)"
   ]
  },
  {
   "cell_type": "code",
   "execution_count": null,
   "metadata": {
    "collapsed": false
   },
   "outputs": [],
   "source": [
    "%timeit D1.dot(Ar)"
   ]
  },
  {
   "cell_type": "code",
   "execution_count": null,
   "metadata": {
    "collapsed": false
   },
   "outputs": [],
   "source": [
    "%timeit A.reshape((-1,n,n)).dot(D.T)"
   ]
  },
  {
   "cell_type": "markdown",
   "metadata": {},
   "source": [
    "$I\\otimes D\\otimes I$"
   ]
  },
  {
   "cell_type": "code",
   "execution_count": null,
   "metadata": {
    "collapsed": false
   },
   "outputs": [],
   "source": [
    "knl = lp.make_kernel(\n",
    "        \"{ [i,j,k,a]: 0<=a,i,j,k<n }\",\n",
    "        \"out[i,j,k]=sum(a, D[j,a]*A[i,a,k])\")\n",
    "knl = lp.set_options(knl, \"write_cl\")\n",
    "\n",
    "knl = lp.prioritize_loops(knl, \"i,j,k\")\n",
    "\n",
    "out_d = cl.array.zeros_like(A_d)\n",
    "evt, _ = knl(queue, D=D_d, A=A_d, out=out_d)\n",
    "evt.wait()\n",
    "\n",
    "print mnorm(out_d.get().ravel()-D2.dot(Ar))"
   ]
  },
  {
   "cell_type": "code",
   "execution_count": null,
   "metadata": {
    "collapsed": false
   },
   "outputs": [],
   "source": [
    "#%timeit np.einsum('ij,ajk', D, A)"
   ]
  },
  {
   "cell_type": "code",
   "execution_count": null,
   "metadata": {
    "collapsed": false
   },
   "outputs": [],
   "source": [
    "#%timeit D2.dot(Ar)"
   ]
  },
  {
   "cell_type": "markdown",
   "metadata": {},
   "source": [
    "$D\\otimes I\\otimes I$"
   ]
  },
  {
   "cell_type": "code",
   "execution_count": null,
   "metadata": {
    "collapsed": false
   },
   "outputs": [],
   "source": [
    "knl = lp.make_kernel(\n",
    "        \"{ [i,j,k,a]: 0<=a,i,j,k<n }\",\n",
    "        \"out[i,j,k]=sum(a, D[i,a]*A[a,j,k])\")\n",
    "knl = lp.set_options(knl, \"write_cl\")\n",
    "\n",
    "knl = lp.prioritize_loops(knl, \"i,j,k\")\n",
    "\n",
    "out_d = cl.array.zeros_like(A_d)\n",
    "evt, _ = knl(queue, D=D_d, A=A_d, out=out_d)\n",
    "evt.wait()\n",
    "\n",
    "print mnorm(out_d.get().ravel()-D3.dot(Ar))"
   ]
  },
  {
   "cell_type": "code",
   "execution_count": null,
   "metadata": {
    "collapsed": false
   },
   "outputs": [],
   "source": [
    "#%timeit np.einsum('ij,jkl', D, A)"
   ]
  },
  {
   "cell_type": "code",
   "execution_count": null,
   "metadata": {
    "collapsed": false
   },
   "outputs": [],
   "source": [
    "#%timeit D3.dot(Ar)"
   ]
  },
  {
   "cell_type": "code",
   "execution_count": null,
   "metadata": {
    "collapsed": true
   },
   "outputs": [],
   "source": []
  }
 ],
 "metadata": {
  "kernelspec": {
   "display_name": "Python 2",
   "language": "python",
   "name": "python2"
  },
  "language_info": {
   "codemirror_mode": {
    "name": "ipython",
    "version": 2
   },
   "file_extension": ".py",
   "mimetype": "text/x-python",
   "name": "python",
   "nbconvert_exporter": "python",
   "pygments_lexer": "ipython2",
   "version": "2.7.12"
  }
 },
 "nbformat": 4,
 "nbformat_minor": 0
}
