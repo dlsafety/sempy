{
 "cells": [
  {
   "cell_type": "code",
   "execution_count": null,
   "metadata": {
    "collapsed": true
   },
   "outputs": [],
   "source": [
    "%matplotlib inline"
   ]
  },
  {
   "cell_type": "code",
   "execution_count": null,
   "metadata": {
    "collapsed": true
   },
   "outputs": [],
   "source": [
    "import numpy as np"
   ]
  },
  {
   "cell_type": "code",
   "execution_count": null,
   "metadata": {
    "collapsed": true
   },
   "outputs": [],
   "source": [
    "import meshpy\n",
    "from meshpy.gmsh_reader import read_gmsh\n",
    "from meshpy.gmsh_reader import (GmshMeshReceiverNumPy, \n",
    "                                GmshHexahedralElement,\n",
    "                                GmshQuadrilateralElement,\n",
    "                                GmshPoint,\n",
    "                                GmshIntervalElement)"
   ]
  },
  {
   "cell_type": "code",
   "execution_count": null,
   "metadata": {
    "collapsed": false
   },
   "outputs": [],
   "source": [
    "mr = GmshMeshReceiverNumPy()\n",
    "read_gmsh(mr, \"cylinder.msh\")"
   ]
  },
  {
   "cell_type": "code",
   "execution_count": null,
   "metadata": {
    "collapsed": false
   },
   "outputs": [],
   "source": [
    "len(mr.element_types)"
   ]
  },
  {
   "cell_type": "markdown",
   "metadata": {},
   "source": [
    "Want to:\n",
    "\n",
    "* Parse out hex elements\n",
    "* Parse out faces\n",
    "* assign DOFs"
   ]
  },
  {
   "cell_type": "code",
   "execution_count": null,
   "metadata": {
    "collapsed": true
   },
   "outputs": [],
   "source": [
    "elem_type_inds = {}\n",
    "\n",
    "for i in range(len(mr.element_types)):\n",
    "    \n",
    "    e = mr.element_types[i]\n",
    "    if e in elem_type_inds:\n",
    "        elem_type_inds[e] += [i]\n",
    "    else:\n",
    "        elem_type_inds[e]  = [i]"
   ]
  },
  {
   "cell_type": "code",
   "execution_count": null,
   "metadata": {
    "collapsed": false
   },
   "outputs": [],
   "source": [
    "elem_type_inds.keys()"
   ]
  },
  {
   "cell_type": "code",
   "execution_count": null,
   "metadata": {
    "collapsed": false
   },
   "outputs": [],
   "source": [
    "hex_type  = None\n",
    "quad_type = None\n",
    "\n",
    "for t in elem_type_inds.keys():\n",
    "    \n",
    "    if isinstance(t, GmshHexahedralElement):\n",
    "        hex_type  = t\n",
    "    if isinstance(t, GmshQuadrilateralElement):\n",
    "        quad_type = t\n",
    "        \n",
    "assert hex_type\n",
    "assert quad_type"
   ]
  },
  {
   "cell_type": "code",
   "execution_count": null,
   "metadata": {
    "collapsed": false
   },
   "outputs": [],
   "source": [
    "hex_inds = elem_type_inds[hex_type]\n",
    "hex_inds = np.sort(hex_inds)\n",
    "\n",
    "quad_inds = elem_type_inds[quad_type]\n",
    "quad_inds = np.sort(quad_inds)"
   ]
  },
  {
   "cell_type": "code",
   "execution_count": null,
   "metadata": {
    "collapsed": false
   },
   "outputs": [],
   "source": [
    "elem_to_node = np.zeros((len(hex_inds),\n",
    "                         hex_type.node_count()),\n",
    "                        dtype=np.int)\n",
    "for i in range(len(hex_inds)):\n",
    "    ind = hex_inds[i]\n",
    "    elem_to_node[i,:] = mr.elements[ind]"
   ]
  },
  {
   "cell_type": "code",
   "execution_count": null,
   "metadata": {
    "collapsed": false
   },
   "outputs": [],
   "source": [
    "bndy_face_to_node = np.zeros((len(quad_inds),\n",
    "                              quad_type.node_count()),\n",
    "                             dtype=np.int)\n",
    "bf2n = bndy_face_to_node\n",
    "for i in range(len(quad_inds)):\n",
    "    ind = quad_inds[i]\n",
    "    bf2n[i,:] = mr.elements[ind]"
   ]
  },
  {
   "cell_type": "code",
   "execution_count": null,
   "metadata": {
    "collapsed": false
   },
   "outputs": [],
   "source": [
    "# Nodes array\n",
    "nodes = np.array(mr.points)"
   ]
  },
  {
   "cell_type": "code",
   "execution_count": null,
   "metadata": {
    "collapsed": false
   },
   "outputs": [],
   "source": [
    "# Switch nodes to lex ordering\n",
    "inds = hex_type.get_lexicographic_gmsh_node_indices()\n",
    "elem_to_node = elem_to_node[:,inds]\n",
    "\n",
    "inds = quad_type.get_lexicographic_gmsh_node_indices()\n",
    "bndy_face_to_node = bf2n[:,inds]"
   ]
  },
  {
   "cell_type": "code",
   "execution_count": null,
   "metadata": {
    "collapsed": false
   },
   "outputs": [],
   "source": [
    "a = nodes[elem_to_node[3]]\n",
    "a[np.abs(a)<1e-10]=0\n",
    "a"
   ]
  },
  {
   "cell_type": "code",
   "execution_count": null,
   "metadata": {
    "collapsed": false
   },
   "outputs": [],
   "source": [
    "hex_type.order"
   ]
  },
  {
   "cell_type": "code",
   "execution_count": null,
   "metadata": {
    "collapsed": false
   },
   "outputs": [],
   "source": [
    "mr.element_markers"
   ]
  }
 ],
 "metadata": {
  "kernelspec": {
   "display_name": "Python 2",
   "language": "python",
   "name": "python2"
  },
  "language_info": {
   "codemirror_mode": {
    "name": "ipython",
    "version": 2
   },
   "file_extension": ".py",
   "mimetype": "text/x-python",
   "name": "python",
   "nbconvert_exporter": "python",
   "pygments_lexer": "ipython2",
   "version": "2.7.12"
  }
 },
 "nbformat": 4,
 "nbformat_minor": 0
}
