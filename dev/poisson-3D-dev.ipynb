{
 "cells": [
  {
   "cell_type": "code",
   "execution_count": null,
   "metadata": {
    "collapsed": true
   },
   "outputs": [],
   "source": [
    "%matplotlib inline"
   ]
  },
  {
   "cell_type": "code",
   "execution_count": null,
   "metadata": {
    "collapsed": true
   },
   "outputs": [],
   "source": [
    "import numpy as np\n",
    "from numpy import newaxis as na\n",
    "import scipy\n",
    "import scipy.sparse as sps\n",
    "from scipy.sparse.linalg import spsolve\n",
    "import matplotlib.pyplot as plt\n",
    "from mpl_toolkits.mplot3d import Axes3D\n",
    "from matplotlib import cm"
   ]
  },
  {
   "cell_type": "code",
   "execution_count": null,
   "metadata": {
    "collapsed": false
   },
   "outputs": [],
   "source": [
    "from pyamg.classical import ruge_stuben_solver\n",
    "from pyfem.sem import SEMhat\n",
    "from pyfem.topo import Interval\n",
    "norm = lambda x: np.max(np.abs(x)) if len(x)>0 else 0.0\n",
    "kron3 = lambda x,y,z: sps.kron(x,sps.kron(y,z))"
   ]
  },
  {
   "cell_type": "markdown",
   "metadata": {},
   "source": [
    "# Setup mesh"
   ]
  },
  {
   "cell_type": "code",
   "execution_count": null,
   "metadata": {
    "collapsed": false
   },
   "outputs": [],
   "source": [
    "N  = 8\n",
    "Ex = 4\n",
    "Ey = 4\n",
    "Ez = 4\n",
    "\n",
    "nx      = N+1\n",
    "ny      = N+1\n",
    "nz      = N+1\n",
    "nx_dofs = N*Ex+1\n",
    "ny_dofs = N*Ey+1\n",
    "nz_dofs = N*Ez+1\n",
    "n_elem  = Ex*Ey*Ez\n",
    "\n",
    "periodic = True\n",
    "\n",
    "if periodic:\n",
    "    nx_dofs -= 1\n",
    "    ny_dofs -= 1\n",
    "    nz_dofs -= 1\n",
    "    \n",
    "semh = SEMhat(N)"
   ]
  },
  {
   "cell_type": "code",
   "execution_count": null,
   "metadata": {
    "collapsed": true
   },
   "outputs": [],
   "source": [
    "def f(X):\n",
    "    x = X[:,0]\n",
    "    y = X[:,1]\n",
    "    z = X[:,2]\n",
    "    \n",
    "    return np.sin(np.pi*x)*np.sin(np.pi*y)*np.sin(np.pi*z)\n",
    "\n",
    "def f2(X):\n",
    "    x = X[:,0]\n",
    "    y = X[:,1]\n",
    "    z = X[:,2]\n",
    "    \n",
    "    return np.sin(np.pi*x)*np.sin(np.pi*y)*np.sin(np.pi*z)*3*(np.pi)**2\n",
    "\n",
    "# def f(X):\n",
    "#     x = X[:,0]\n",
    "#     y = X[:,1]\n",
    "    \n",
    "#     return np.cos(np.pi*x)*np.cos(np.pi*y)\n",
    "\n",
    "# def f2(X):\n",
    "#     x = X[:,0]\n",
    "#     y = X[:,1]\n",
    "    \n",
    "#     return np.cos(np.pi*x)*np.cos(np.pi*y)*2*(np.pi)**2\n",
    "\n",
    "sx = 0.1\n",
    "def mx(chi, eta, zeta):\n",
    "    return chi+sx*np.sin(np.pi*chi)*np.sin(np.pi*eta)\n",
    "def dmx1(chi, eta, zeta):\n",
    "    return np.ones_like(chi)+sx*np.pi*np.cos(np.pi*chi)*np.sin(np.pi*eta)\n",
    "def dmx2(chi, eta, zeta):\n",
    "    return np.zeros_like(chi)+sx*np.pi*np.sin(np.pi*chi)*np.cos(np.pi*eta)\n",
    "def dmx3(chi, eta, zeta):\n",
    "    return np.zeros_like(chi)\n",
    "\n",
    "sy = 0.1\n",
    "def my(chi, eta, zeta):\n",
    "    return eta+sy*np.sin(np.pi*chi)*np.sin(np.pi*eta)\n",
    "def dmy1(chi, eta, zeta):\n",
    "    return np.zeros_like(eta)+sy*np.pi*np.cos(np.pi*chi)*np.sin(np.pi*eta)\n",
    "def dmy2(chi, eta, zeta):\n",
    "    return np.ones_like(eta)+sy*np.pi*np.sin(np.pi*chi)*np.cos(np.pi*eta)\n",
    "def dmy3(chi, eta, zeta):\n",
    "    return np.zeros_like(eta)\n",
    "\n",
    "def mz(chi, eta, zeta):\n",
    "    return zeta\n",
    "def dmz1(chi, eta, zeta):\n",
    "    return np.zeros_like(zeta)\n",
    "def dmz2(chi, eta, zeta):\n",
    "    return np.zeros_like(zeta)\n",
    "def dmz3(chi, eta, zeta):\n",
    "    return np.ones_like(zeta)"
   ]
  },
  {
   "cell_type": "code",
   "execution_count": null,
   "metadata": {
    "collapsed": false
   },
   "outputs": [],
   "source": [
    "topo  = Interval()\n",
    "\n",
    "vertices = np.linspace(-1, 1, Ex+1)\n",
    "etvx      = np.zeros((Ex, 2), dtype=np.int)\n",
    "etvx[:,0] = np.arange(Ex)\n",
    "etvx[:,1] = np.arange(Ex)+1\n",
    "xq = topo.ref_to_phys(vertices[etvx], semh.xgll)\n",
    "jacb_det0x = topo.calc_jacb(vertices[etvx])[0]\n",
    "if periodic:\n",
    "    xq = xq.ravel()[:-1]\n",
    "\n",
    "vertices = np.linspace(-1, 1, Ey+1)\n",
    "etvy      = np.zeros((Ey, 2), dtype=np.int)\n",
    "etvy[:,0] = np.arange(Ey)\n",
    "etvy[:,1] = np.arange(Ey)+1\n",
    "yq = topo.ref_to_phys(vertices[etvy], semh.xgll)\n",
    "jacb_det0y = topo.calc_jacb(vertices[etvy])[0]\n",
    "if periodic:\n",
    "    yq = yq.ravel()[:-1]\n",
    "    \n",
    "vertices = np.linspace(-1, 1, Ez+1)\n",
    "etvz      = np.zeros((Ez, 2), dtype=np.int)\n",
    "etvz[:,0] = np.arange(Ez)\n",
    "etvz[:,1] = np.arange(Ez)+1\n",
    "zq = topo.ref_to_phys(vertices[etvz], semh.xgll)\n",
    "jacb_det0z = topo.calc_jacb(vertices[etvz])[0]\n",
    "if periodic:\n",
    "    zq = zq.ravel()[:-1]"
   ]
  },
  {
   "cell_type": "code",
   "execution_count": null,
   "metadata": {
    "collapsed": false
   },
   "outputs": [],
   "source": [
    "# Build restriction operator\n",
    "if periodic:\n",
    "    R0x = sps.eye(nx_dofs)\n",
    "    R0y = sps.eye(ny_dofs)\n",
    "    R0z = sps.eye(nz_dofs)\n",
    "else:\n",
    "    R0x = sps.dia_matrix((np.ones(nx_dofs),1),\n",
    "                          shape=(nx_dofs-2,nx_dofs))\n",
    "    R0y = sps.dia_matrix((np.ones(ny_dofs),1),\n",
    "                          shape=(ny_dofs-2,ny_dofs))\n",
    "    R0z = sps.dia_matrix((np.ones(nz_dofs),1),\n",
    "                          shape=(nz_dofs-2,nz_dofs))\n",
    "\n",
    "R = kron3(R0z, R0y, R0x)\n",
    "\n",
    "rngx = np.arange(nx_dofs)\n",
    "rngy = np.arange(ny_dofs)\n",
    "rngz = np.arange(nz_dofs)\n",
    "\n",
    "if not periodic:\n",
    "    assert False\n",
    "    boundary_dofs = np.hstack([rngx,\n",
    "                               rngx+nx_dofs*(ny_dofs-1),\n",
    "                               rngy[1:-1]*nx_dofs])\n",
    "    boundary_dofs = np.hstack([boundary_dofs,\n",
    "                               rngy[1:-1]*nx_dofs+nx_dofs-1])\n",
    "else:\n",
    "    boundary_dofs = np.array([],dtype=np.int)\n",
    "\n",
    "boundary_dofs.sort()"
   ]
  },
  {
   "cell_type": "code",
   "execution_count": null,
   "metadata": {
    "collapsed": false
   },
   "outputs": [],
   "source": [
    "dx = np.unique(xq)\n",
    "dy = np.unique(yq)\n",
    "dz = np.unique(zq)\n",
    "\n",
    "XYZ = np.zeros((nz_dofs,ny_dofs,nx_dofs,3))\n",
    "XYZ[:,:,:,0] = dx[na,na,:]\n",
    "XYZ[:,:,:,1] = dy[na,:,na]\n",
    "XYZ[:,:,:,2] = dz[:,na,na]\n",
    "\n",
    "#X, Y = np.meshgrid(dx, dy)\n",
    "# dof_ref = np.zeros((len(X.ravel()), 2))\n",
    "# dof_ref[:,0] = X.ravel()\n",
    "# dof_ref[:,1] = Y.ravel()\n",
    "\n",
    "dof_ref = XYZ.reshape((-1,3))\n",
    "\n",
    "dof_phys = np.zeros_like(dof_ref)\n",
    "dof_phys[:,0] = mx(dof_ref[:,0], dof_ref[:,1], dof_ref[:,2])\n",
    "dof_phys[:,1] = my(dof_ref[:,0], dof_ref[:,1], dof_ref[:,2])\n",
    "dof_phys[:,2] = mz(dof_ref[:,0], dof_ref[:,1], dof_ref[:,2])"
   ]
  },
  {
   "cell_type": "code",
   "execution_count": null,
   "metadata": {
    "collapsed": false
   },
   "outputs": [],
   "source": [
    "ax = np.repeat(semh.wgll[na,:-1], Ex, axis=0)\n",
    "ax = ax.ravel()\n",
    "if not periodic:\n",
    "    ax = np.hstack([ax,ax[0]])\n",
    "ay = np.repeat(semh.wgll[na,:-1], Ey, axis=0)\n",
    "ay = ay.ravel()\n",
    "if not periodic:\n",
    "    ay = np.hstack([ay,ay[0]])\n",
    "az = np.repeat(semh.wgll[na,:-1], Ez, axis=0)\n",
    "az = az.ravel()\n",
    "if not periodic:\n",
    "    az = np.hstack([az,az[0]])\n",
    "\n",
    "wvals  = az[:,na,na]*ay[na,:,na]*ax[na,na,:]\n",
    "wvals *= jacb_det0x*jacb_det0y*jacb_det0z\n",
    "wvals  = wvals.ravel()"
   ]
  },
  {
   "cell_type": "code",
   "execution_count": null,
   "metadata": {
    "collapsed": false
   },
   "outputs": [],
   "source": [
    "# Make Q\n",
    "etdx = np.arange(Ex*(N+1))\n",
    "etdx = etdx.reshape((Ex, -1))\n",
    "etdx -= np.arange(Ex)[:,na]\n",
    "if periodic:\n",
    "    etdx[-1,-1] = etdx[0,0]\n",
    "    \n",
    "etdy = np.arange(Ey*(N+1))\n",
    "etdy = etdy.reshape((Ey, -1))\n",
    "etdy -= np.arange(Ey)[:,na]\n",
    "if periodic:\n",
    "    etdy[-1,-1] = etdy[0,0]\n",
    "    \n",
    "etdz = np.arange(Ez*(N+1))\n",
    "etdz = etdz.reshape((Ez, -1))\n",
    "etdz -= np.arange(Ez)[:,na]\n",
    "if periodic:\n",
    "    etdz[-1,-1] = etdz[0,0]\n",
    "\n",
    "cols = etdx.ravel()\n",
    "rows = np.arange(len(cols))\n",
    "vals = np.ones(len(cols))\n",
    "Q0x = sps.coo_matrix((vals,(rows,cols))).tocsr()\n",
    "\n",
    "cols = etdy.ravel()\n",
    "rows = np.arange(len(cols))\n",
    "vals = np.ones(len(cols))\n",
    "Q0y = sps.coo_matrix((vals,(rows,cols))).tocsr()\n",
    "\n",
    "cols = etdz.ravel()\n",
    "rows = np.arange(len(cols))\n",
    "vals = np.ones(len(cols))\n",
    "Q0z = sps.coo_matrix((vals,(rows,cols))).tocsr()\n",
    "\n",
    "Q = kron3(Q0z, Q0y, Q0x)\n",
    "\n",
    "a = Q.dot(np.arange(nx_dofs*ny_dofs*nz_dofs)).reshape((nz*Ez,ny*Ey,nx*Ex))\n",
    "etd = np.zeros((Ex*Ey*Ez, nx*ny*nz), dtype=np.int)\n",
    "ind = 0\n",
    "for iz in range(Ez):\n",
    "    for iy in range(Ey):\n",
    "        for ix in range(Ex):\n",
    "            indz = iz*nz\n",
    "            indy = iy*ny\n",
    "            indx = ix*nx\n",
    "            etd[ind,:] = a[indz:indz+nz,indy:indy+ny,indx:indx+nx].ravel()\n",
    "            ind += 1\n",
    "        \n",
    "cols = etd.ravel()\n",
    "rows = np.arange(len(cols))\n",
    "vals = np.ones(len(cols))\n",
    "Q = sps.coo_matrix((vals,(rows,cols))).tocsr()"
   ]
  },
  {
   "cell_type": "code",
   "execution_count": null,
   "metadata": {
    "collapsed": false
   },
   "outputs": [],
   "source": [
    "# Compute jacobian information\n",
    "dr = dof_ref\n",
    "\n",
    "Jacb = np.zeros((dr.shape[0],3,3,))\n",
    "Jacb[:,0,0] = dmx1(dr[:,0], dr[:,1], dr[:,2])\n",
    "Jacb[:,0,1] = dmx2(dr[:,0], dr[:,1], dr[:,2])\n",
    "Jacb[:,0,2] = dmx3(dr[:,0], dr[:,1], dr[:,2])\n",
    "Jacb[:,1,0] = dmy1(dr[:,0], dr[:,1], dr[:,2])\n",
    "Jacb[:,1,1] = dmy2(dr[:,0], dr[:,1], dr[:,2])\n",
    "Jacb[:,1,2] = dmy3(dr[:,0], dr[:,1], dr[:,2])\n",
    "Jacb[:,2,0] = dmz1(dr[:,0], dr[:,1], dr[:,2])\n",
    "Jacb[:,2,1] = dmz2(dr[:,0], dr[:,1], dr[:,2])\n",
    "Jacb[:,2,2] = dmz3(dr[:,0], dr[:,1], dr[:,2])\n",
    "\n",
    "jacb_det = np.linalg.det(Jacb)\n",
    "jacb_det = jacb_det.ravel()\n",
    "\n",
    "Jacb_inv = np.linalg.inv(Jacb)"
   ]
  },
  {
   "cell_type": "markdown",
   "metadata": {},
   "source": [
    "# Poisson"
   ]
  },
  {
   "cell_type": "code",
   "execution_count": null,
   "metadata": {
    "collapsed": false
   },
   "outputs": [],
   "source": [
    "# build Gij\n",
    "G0 = np.zeros_like(Jacb)\n",
    "assert len(Jacb)==len(wvals)\n",
    "\n",
    "for i in range(len(Jacb)):\n",
    "    G0[i,:,:]  = Jacb_inv[i].dot(Jacb_inv[i].T)\n",
    "    G0[i,:,:] *= wvals[i]*jacb_det[i]   \n",
    "\n",
    "G11 = []\n",
    "G12 = []\n",
    "G13 = []\n",
    "G21 = []\n",
    "G22 = []\n",
    "G23 = []\n",
    "G31 = []\n",
    "G32 = []\n",
    "G33 = []\n",
    "\n",
    "nn = nx*ny*nz\n",
    "s  = (nn, nn)\n",
    "for i in range(n_elem):\n",
    "    \n",
    "    G11 += [sps.dia_matrix((G0[etd[i],0,0], 0), shape=s)]\n",
    "    G12 += [sps.dia_matrix((G0[etd[i],0,1], 0), shape=s)]\n",
    "    G13 += [sps.dia_matrix((G0[etd[i],0,2], 0), shape=s)]\n",
    "    \n",
    "    G21 += [sps.dia_matrix((G0[etd[i],1,0], 0), shape=s)]\n",
    "    G22 += [sps.dia_matrix((G0[etd[i],1,1], 0), shape=s)]\n",
    "    G23 += [sps.dia_matrix((G0[etd[i],1,2], 0), shape=s)]\n",
    "    \n",
    "    G31 += [sps.dia_matrix((G0[etd[i],2,0], 0), shape=s)]\n",
    "    G32 += [sps.dia_matrix((G0[etd[i],2,1], 0), shape=s)]\n",
    "    G33 += [sps.dia_matrix((G0[etd[i],2,2], 0), shape=s)]"
   ]
  },
  {
   "cell_type": "code",
   "execution_count": null,
   "metadata": {
    "collapsed": false
   },
   "outputs": [],
   "source": [
    "# Build poisson stiffness matrix A\n",
    "\n",
    "D1 = kron3(sps.eye(nz), sps.eye(ny), semh.Dh)/jacb_det0x\n",
    "D2 = kron3(sps.eye(nz), semh.Dh,     sps.eye(nx))/jacb_det0y\n",
    "D3 = kron3(semh.Dh,     sps.eye(ny), sps.eye(nx))/jacb_det0z\n",
    "\n",
    "A0a = []\n",
    "for i in range(n_elem):\n",
    "    A0a += [D1.T.dot(G11[i].dot(D1)+G12[i].dot(D2)+G13[i].dot(D3))+\\\n",
    "            D2.T.dot(G21[i].dot(D1)+G22[i].dot(D2)+G23[i].dot(D3))+\\\n",
    "            D3.T.dot(G31[i].dot(D1)+G32[i].dot(D2)+G33[i].dot(D3))]\n",
    "A0 = sps.block_diag(A0a).tocsr()\n",
    "A0 = Q.T.dot(A0.dot(Q))\n",
    "A  = R.dot(A0.dot(R.T))\n",
    "\n",
    "# Build mass matrix B\n",
    "nd = nx_dofs*ny_dofs*nz_dofs\n",
    "b = Q.T.dot((wvals*jacb_det)[etd.ravel()])\n",
    "# Bl is not the local mass matrix.\n",
    "# I am just using bad notation here\n",
    "Bl = sps.dia_matrix((b, 0), shape=(nd,nd))\n",
    "Binv_data = (1.0/Bl.data).ravel()\n",
    "Binv_data = R.dot(Binv_data)\n",
    "\n",
    "if nd<=1e3:\n",
    "    print np.min(np.linalg.svd(A.toarray())[1])"
   ]
  },
  {
   "cell_type": "code",
   "execution_count": null,
   "metadata": {
    "collapsed": false
   },
   "outputs": [],
   "source": [
    "fh  = f2(dof_phys)\n",
    "fl = fh\n",
    "rhs = Bl.dot(fl)\n",
    "radj = np.zeros(nx_dofs*ny_dofs*nz_dofs)\n",
    "radj[boundary_dofs] = f(dof_phys)[boundary_dofs]\n",
    "rhs = R.dot(rhs-A0.dot(radj))\n",
    "\n",
    "if periodic:\n",
    "    rhs -= np.mean(rhs)\n",
    "    \n",
    "ml = ruge_stuben_solver(A)\n",
    "residuals = []\n",
    "sol = R.T.dot(ml.solve(rhs, tol=1e-14, \n",
    "                       maxiter=500, residuals=residuals,\n",
    "                       accel='cg'))\n",
    "sol[boundary_dofs] = f(dof_phys)[boundary_dofs]\n",
    "\n",
    "if periodic:\n",
    "    sol -= np.mean(sol)\n",
    "\n",
    "print len(residuals), residuals[-1]\n",
    "print \n",
    "print norm(f(dof_phys)-sol)/norm(f(dof_phys))"
   ]
  },
  {
   "cell_type": "code",
   "execution_count": null,
   "metadata": {
    "collapsed": false
   },
   "outputs": [],
   "source": [
    "# fig = plt.figure()\n",
    "# ax = fig.gca(projection='3d')\n",
    "# s = (ny_dofs,nx_dofs)\n",
    "# X, Y = dof_phys[:,0], dof_phys[:,1]\n",
    "# X = X.reshape(s)\n",
    "# Y = Y.reshape(s)\n",
    "# ax.plot_wireframe(X, Y, f(dof_phys).reshape(s))\n",
    "# ax.plot_wireframe(X, Y, sol.reshape(s),\n",
    "#                   color='g')\n",
    "# plt.savefig(\"sol.pdf\")"
   ]
  },
  {
   "cell_type": "code",
   "execution_count": null,
   "metadata": {
    "collapsed": false
   },
   "outputs": [],
   "source": [
    "plt.scatter(dof_phys[:,0], dof_phys[:,1])"
   ]
  },
  {
   "cell_type": "code",
   "execution_count": null,
   "metadata": {
    "collapsed": true
   },
   "outputs": [],
   "source": []
  }
 ],
 "metadata": {
  "kernelspec": {
   "display_name": "Python 2",
   "language": "python",
   "name": "python2"
  },
  "language_info": {
   "codemirror_mode": {
    "name": "ipython",
    "version": 2
   },
   "file_extension": ".py",
   "mimetype": "text/x-python",
   "name": "python",
   "nbconvert_exporter": "python",
   "pygments_lexer": "ipython2",
   "version": "2.7.12"
  }
 },
 "nbformat": 4,
 "nbformat_minor": 0
}
