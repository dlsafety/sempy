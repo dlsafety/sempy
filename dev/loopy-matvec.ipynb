{
 "cells": [
  {
   "cell_type": "code",
   "execution_count": null,
   "metadata": {
    "collapsed": false
   },
   "outputs": [],
   "source": [
    "%matplotlib inline"
   ]
  },
  {
   "cell_type": "code",
   "execution_count": null,
   "metadata": {
    "collapsed": false
   },
   "outputs": [],
   "source": [
    "import numpy as np\n",
    "import pyopencl as cl\n",
    "import pyopencl.array\n",
    "import pyopencl.clrandom\n",
    "import loopy as lp\n",
    "import loopy.transform.iname"
   ]
  },
  {
   "cell_type": "code",
   "execution_count": null,
   "metadata": {
    "collapsed": true
   },
   "outputs": [],
   "source": [
    "tol = 1e-10\n",
    "mnorm = lambda x: np.max(np.abs(x))"
   ]
  },
  {
   "cell_type": "code",
   "execution_count": null,
   "metadata": {
    "collapsed": true
   },
   "outputs": [],
   "source": [
    "ctx = cl.create_some_context()\n",
    "queue = cl.CommandQueue(ctx)"
   ]
  },
  {
   "cell_type": "code",
   "execution_count": null,
   "metadata": {
    "collapsed": false
   },
   "outputs": [],
   "source": [
    "n = 16*10**3\n",
    "# x_d = cl.clrandom.rand(queue, n, dtype=np.double)\n",
    "# A_d = cl.clrandom.rand(queue, (n, n), dtype=np.double)\n",
    "\n",
    "x_d = cl.array.arange(queue, n, dtype=np.double)/n\n",
    "A_d = cl.array.arange(queue, n*n, dtype=np.double).reshape((n,n))/(n*n)\n",
    "x = x_d.get()\n",
    "A = A_d.get()\n",
    "b = A.dot(x)"
   ]
  },
  {
   "cell_type": "markdown",
   "metadata": {},
   "source": [
    "## Tiled Kernel"
   ]
  },
  {
   "cell_type": "code",
   "execution_count": null,
   "metadata": {
    "collapsed": true
   },
   "outputs": [],
   "source": [
    "from loopy.transform.data import reduction_arg_to_subst_rule"
   ]
  },
  {
   "cell_type": "code",
   "execution_count": null,
   "metadata": {
    "collapsed": false
   },
   "outputs": [],
   "source": [
    "knl = lp.make_kernel(\n",
    "        \"{ [i,j]: 0<=i,j<n }\",\n",
    "        \"out[i] = sum(j, A[i,j]*x[j])\",\n",
    "         assumptions=\"n>=0\")"
   ]
  },
  {
   "cell_type": "code",
   "execution_count": null,
   "metadata": {
    "collapsed": false
   },
   "outputs": [],
   "source": [
    "# Andreas's transform\n",
    "\n",
    "tknl = knl\n",
    "tile_size = 16\n",
    "tknl = lp.split_iname(tknl, \"i\", tile_size, \n",
    "                      outer_tag=\"g.0\",\n",
    "                      inner_tag=\"ilp.seq\")\n",
    "tknl = lp.split_iname(tknl, \"j\", tile_size)\n",
    "\n",
    "# Slight issue: It won't  let you pick an order between i_inner and j_inner.\n",
    "# https://github.com/inducer/loopy/issues/82\n",
    "\n",
    "tknl = lp.add_and_infer_dtypes(tknl, {\"A,x\": np.float64})\n",
    "print(lp.generate_code_v2(tknl).device_code())"
   ]
  },
  {
   "cell_type": "code",
   "execution_count": null,
   "metadata": {
    "collapsed": false
   },
   "outputs": [],
   "source": [
    "evt, (b_d,) = tknl(queue, A=A_d, x=x_d); evt.wait()\n",
    "mnorm(b-b_d.get())"
   ]
  },
  {
   "cell_type": "code",
   "execution_count": null,
   "metadata": {
    "collapsed": false
   },
   "outputs": [],
   "source": [
    "%timeit evt, _ = tknl(queue, A=A_d, x=x_d, n=n); evt.wait()"
   ]
  },
  {
   "cell_type": "code",
   "execution_count": null,
   "metadata": {
    "collapsed": false
   },
   "outputs": [],
   "source": [
    "%timeit A.dot(x)"
   ]
  },
  {
   "cell_type": "code",
   "execution_count": null,
   "metadata": {
    "collapsed": false
   },
   "outputs": [],
   "source": [
    "# # Scott's old transform\n",
    "# tile_size = 16\n",
    "# knl = lp.split_iname(knl, \"j\", tile_size)\n",
    "\n",
    "# knl = lp.split_reduction_inward(knl, \"j_inner\", within=\"iname:i\")\n",
    "# #knl = lp.split_reduction_inward(knl, \"j_inner\")\n",
    "# knl = lp.split_iname(knl, \"i\", tile_size)\n",
    "# knl = reduction_arg_to_subst_rule(knl, \"j_outer\")\n",
    "# knl = lp.precompute(knl, \"red_j_outer_arg\", \"j_outer,i_inner\",\n",
    "#                     temporary_scope=lp.temp_var_scope.PRIVATE)\n",
    "# knl = lp.realize_reduction(knl)\n",
    "# knl = lp.rename_iname(knl, \"red_j_outer_arg_i_inner\", \"i_inner_\")\n",
    "# knl = lp.set_loop_priority(knl, \"j_outer_0,i_inner_\")\n",
    "\n",
    "# knl = lp.assume(knl, \"n mod %i = 0\"%(tile_size,))\n",
    "\n",
    "# print(knl)\n",
    "\n",
    "# knl_tile = knl"
   ]
  },
  {
   "cell_type": "code",
   "execution_count": null,
   "metadata": {
    "collapsed": false
   },
   "outputs": [],
   "source": [
    "# cgr = lp.generate_code_v2(knl)\n",
    "# print(cgr.device_code())\n",
    "# evt, (b_d,) = knl_tile(queue, A=A_d, x=x_d); evt.wait()"
   ]
  },
  {
   "cell_type": "code",
   "execution_count": null,
   "metadata": {
    "collapsed": true
   },
   "outputs": [],
   "source": []
  }
 ],
 "metadata": {
  "kernelspec": {
   "display_name": "Python 2",
   "language": "python",
   "name": "python2"
  },
  "language_info": {
   "codemirror_mode": {
    "name": "ipython",
    "version": 2
   },
   "file_extension": ".py",
   "mimetype": "text/x-python",
   "name": "python",
   "nbconvert_exporter": "python",
   "pygments_lexer": "ipython2",
   "version": "2.7.12"
  },
  "widgets": {
   "state": {},
   "version": "1.1.2"
  }
 },
 "nbformat": 4,
 "nbformat_minor": 0
}
