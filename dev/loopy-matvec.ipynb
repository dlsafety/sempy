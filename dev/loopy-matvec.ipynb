{
 "cells": [
  {
   "cell_type": "code",
   "execution_count": null,
   "metadata": {
    "collapsed": true
   },
   "outputs": [],
   "source": [
    "%matplotlib inline"
   ]
  },
  {
   "cell_type": "code",
   "execution_count": null,
   "metadata": {
    "collapsed": false
   },
   "outputs": [],
   "source": [
    "import numpy as np\n",
    "import pyopencl as cl\n",
    "import pyopencl.array\n",
    "import pyopencl.clrandom\n",
    "import loopy as lp"
   ]
  },
  {
   "cell_type": "code",
   "execution_count": null,
   "metadata": {
    "collapsed": true
   },
   "outputs": [],
   "source": [
    "tol = 1e-10\n",
    "mnorm = lambda x: np.max(np.abs(x))"
   ]
  },
  {
   "cell_type": "code",
   "execution_count": null,
   "metadata": {
    "collapsed": true
   },
   "outputs": [],
   "source": [
    "ctx = cl.create_some_context()\n",
    "queue = cl.CommandQueue(ctx)"
   ]
  },
  {
   "cell_type": "code",
   "execution_count": null,
   "metadata": {
    "collapsed": false
   },
   "outputs": [],
   "source": [
    "n = 16*10**3\n",
    "# x_d = cl.clrandom.rand(queue, n, dtype=np.double)\n",
    "# A_d = cl.clrandom.rand(queue, (n, n), dtype=np.double)\n",
    "\n",
    "x_d = cl.array.arange(queue, n, dtype=np.double)/n\n",
    "A_d = cl.array.arange(queue, n*n, dtype=np.double).reshape((n,n))/(n*n)\n",
    "x = x_d.get()\n",
    "A = A_d.get()\n",
    "b = A.dot(x)"
   ]
  },
  {
   "cell_type": "markdown",
   "metadata": {},
   "source": [
    "## Plain Kernel"
   ]
  },
  {
   "cell_type": "code",
   "execution_count": null,
   "metadata": {
    "collapsed": false
   },
   "outputs": [],
   "source": [
    "knl = lp.make_kernel(\n",
    "        \"[n] -> { [i,j]: 0<=i,j<n }\",\n",
    "        \"out[i] = sum(j, A[i,j]*x[j])\", \n",
    "        [lp.GlobalArg(\"A\", shape=(\"n, n\"), dtype=np.double),\n",
    "         lp.GlobalArg(\"x\", shape=(\"n\",), dtype=np.double),\n",
    "         lp.GlobalArg(\"out\", shape=(\"n\",), dtype=np.double),\n",
    "         lp.ValueArg(\"n\", np.int, approximately=n)],\n",
    "         assumptions=\"n>=0\")\n",
    "knl = lp.set_options(knl, \"write_cl\")\n",
    "\n",
    "knl_single = knl"
   ]
  },
  {
   "cell_type": "code",
   "execution_count": null,
   "metadata": {
    "collapsed": false
   },
   "outputs": [],
   "source": [
    "evt, (b_d,) = knl_single(queue, A=A_d, x=x_d, n=n); evt.wait()"
   ]
  },
  {
   "cell_type": "code",
   "execution_count": null,
   "metadata": {
    "collapsed": false
   },
   "outputs": [],
   "source": [
    "mnorm(b_d.get()-b)<tol"
   ]
  },
  {
   "cell_type": "code",
   "execution_count": null,
   "metadata": {
    "collapsed": false
   },
   "outputs": [],
   "source": [
    "%timeit evt, _ = knl_single(queue, A=A_d, x=x_d, n=n); evt.wait()"
   ]
  },
  {
   "cell_type": "markdown",
   "metadata": {},
   "source": [
    "## Tiled Kernel"
   ]
  },
  {
   "cell_type": "code",
   "execution_count": null,
   "metadata": {
    "collapsed": false
   },
   "outputs": [],
   "source": [
    "knl = knl_single\n",
    "tile_size = 16\n",
    "#knl = lp.split_iname(knl, \"i\", tile_size, outer_tag=\"g.0\", inner_tag=\"l.0\")\n",
    "#knl = lp.split_iname(knl, \"i\", tile_size, outer_tag=\"g.0\")\n",
    "#knl = lp.split_iname(knl, \"i\", tile_size, inner_tag=\"l.0\")\n",
    "knl = lp.split_iname(knl, \"i\", tile_size)\n",
    "knl = lp.split_iname(knl, \"j\", tile_size)\n",
    "\n",
    "knl = lp.set_loop_priority(knl, \"j_outer,i_inner,j_inner\")\n",
    "knl_tile = knl"
   ]
  },
  {
   "cell_type": "code",
   "execution_count": null,
   "metadata": {
    "collapsed": false
   },
   "outputs": [],
   "source": [
    "evt, (b_d,) = knl_tile(queue, A=A_d, x=x_d); evt.wait()"
   ]
  },
  {
   "cell_type": "code",
   "execution_count": null,
   "metadata": {
    "collapsed": false
   },
   "outputs": [],
   "source": [
    "mnorm(b_d.get()-b)<tol"
   ]
  },
  {
   "cell_type": "code",
   "execution_count": null,
   "metadata": {
    "collapsed": false
   },
   "outputs": [],
   "source": [
    "b_d.get()"
   ]
  },
  {
   "cell_type": "code",
   "execution_count": null,
   "metadata": {
    "collapsed": false
   },
   "outputs": [],
   "source": [
    "%timeit evt, _ = knl_tile(queue, A=A_d, x=x_d, n=n); evt.wait()"
   ]
  },
  {
   "cell_type": "code",
   "execution_count": null,
   "metadata": {
    "collapsed": false
   },
   "outputs": [],
   "source": [
    "#lp.show_dependency_graph(knl_tile)"
   ]
  },
  {
   "cell_type": "code",
   "execution_count": null,
   "metadata": {
    "collapsed": true
   },
   "outputs": [],
   "source": []
  }
 ],
 "metadata": {
  "kernelspec": {
   "display_name": "Python 2",
   "language": "python",
   "name": "python2"
  },
  "language_info": {
   "codemirror_mode": {
    "name": "ipython",
    "version": 2
   },
   "file_extension": ".py",
   "mimetype": "text/x-python",
   "name": "python",
   "nbconvert_exporter": "python",
   "pygments_lexer": "ipython2",
   "version": "2.7.12"
  }
 },
 "nbformat": 4,
 "nbformat_minor": 0
}
