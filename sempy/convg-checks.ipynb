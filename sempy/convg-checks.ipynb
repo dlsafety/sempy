{
 "cells": [
  {
   "cell_type": "code",
   "execution_count": null,
   "metadata": {
    "collapsed": false
   },
   "outputs": [],
   "source": [
    "%matplotlib inline\n",
    "%load_ext autoreload\n",
    "%autoreload 2\n",
    "%load_ext line_profiler"
   ]
  },
  {
   "cell_type": "code",
   "execution_count": null,
   "metadata": {
    "collapsed": true
   },
   "outputs": [],
   "source": [
    "import numpy as np\n",
    "from numpy import newaxis as na\n",
    "import scipy\n",
    "import scipy.sparse as sps\n",
    "from scipy.sparse.linalg import spsolve, LinearOperator\n",
    "import matplotlib.pyplot as plt"
   ]
  },
  {
   "cell_type": "code",
   "execution_count": null,
   "metadata": {
    "collapsed": false
   },
   "outputs": [],
   "source": [
    "from pyamg.classical import ruge_stuben_solver\n",
    "norm  = lambda x: np.max(np.abs(x)) if len(x)>0 else 0.0\n",
    "kron3 = lambda x,y,z: sps.kron(x,sps.kron(y,z))"
   ]
  },
  {
   "cell_type": "code",
   "execution_count": null,
   "metadata": {
    "collapsed": false
   },
   "outputs": [],
   "source": [
    "from tensormesh import HexCubePoisson\n",
    "from maps import LinearIsopMap\n",
    "from topology import CubicTopology\n",
    "from poisson import PoissonProblem"
   ]
  },
  {
   "cell_type": "markdown",
   "metadata": {},
   "source": [
    "# Setup mesh"
   ]
  },
  {
   "cell_type": "code",
   "execution_count": null,
   "metadata": {
    "collapsed": true
   },
   "outputs": [],
   "source": [
    "class CB(object):\n",
    "    def __init__(self):\n",
    "        self.n_iter = 0\n",
    "    def __call__(self, x):\n",
    "        self.n_iter += 1"
   ]
  },
  {
   "cell_type": "code",
   "execution_count": null,
   "metadata": {
    "collapsed": false
   },
   "outputs": [],
   "source": [
    "def solve_problem(f, f2, E, N, periodic):\n",
    "    \n",
    "    Ex, Ey, Ez = E\n",
    "    \n",
    "    lmap = LinearIsopMap()\n",
    "\n",
    "    topo = CubicTopology(N, (Ex, Ey, Ez),\n",
    "                        periodic=periodic)\n",
    "    topo.build()\n",
    "\n",
    "    etn = topo.elem_to_vertex\n",
    "    Q, etd = topo.Q, topo.elem_to_dof\n",
    "    R = topo.R\n",
    "    boundary_dofs = topo.boundary_dofs\n",
    "\n",
    "    vertex_ref = topo.get_vertex_ref()\n",
    "\n",
    "    vertex_phys = vertex_ref.copy()\n",
    "\n",
    "    chi, eta, zeta = vertex_ref.T\n",
    "    sx = sy = sz = 0.1\n",
    "    vp = vertex_phys\n",
    "    vp[:,0] = chi +sx*np.sin(np.pi*chi)*np.sin(np.pi*eta)*np.sin(np.pi*zeta)\n",
    "    vp[:,1] = eta +sy*np.sin(np.pi*chi)*np.sin(np.pi*eta)*np.sin(np.pi*zeta)\n",
    "    vp[:,2] = zeta+sz*np.sin(np.pi*chi)*np.sin(np.pi*eta)*np.sin(np.pi*zeta)\n",
    "\n",
    "    poisson = PoissonProblem(topo, lmap)\n",
    "    poisson.build(vertex_phys)\n",
    "\n",
    "    p = poisson\n",
    "    if periodic:\n",
    "        nn = p.n_dofs\n",
    "    else:\n",
    "        nn = (p.nz_dofs-2)*(p.ny_dofs-2)*(p.nx_dofs-2)\n",
    "\n",
    "    linOp = LinearOperator((nn, nn), matvec=p.apply_A)\n",
    "\n",
    "    M = HexCubePoisson(N,Ex,L=2,periodic=periodic)\n",
    "    M.build_mesh()\n",
    "    precond = LinearOperator((nn,nn), \n",
    "                             matvec=M.solve)\n",
    "\n",
    "    dof_phys = p.dof_phys\n",
    "    fh  = f2(dof_phys)\n",
    "    fl = fh\n",
    "    rhs = p.B.dot(fl)\n",
    "    radj = np.zeros(p.nx_dofs*p.ny_dofs*p.nz_dofs)\n",
    "    radj[boundary_dofs] = f(dof_phys)[boundary_dofs]\n",
    "    rhs = R.dot(rhs-p.apply_A(radj, apply_R=False))\n",
    "    exact = f(dof_phys)\n",
    "\n",
    "    if periodic:\n",
    "        rhs -= np.mean(rhs)    \n",
    "\n",
    "\n",
    "    cb = CB()\n",
    "    solcg, errc = sps.linalg.cg(linOp, rhs, tol=1e-14, \n",
    "                                maxiter=2000, callback=cb,\n",
    "                                M=precond)\n",
    "\n",
    "    solcg = R.T.dot(solcg)\n",
    "    if periodic:\n",
    "        solcg -= np.mean(solcg)\n",
    "        exact -= np.mean(exact)\n",
    "    else:\n",
    "        solcg[boundary_dofs] = f(dof_phys[boundary_dofs])\n",
    "\n",
    "    print cb.n_iter, norm(rhs-p.apply_A(R.dot(solcg))),\n",
    "    print norm(exact-solcg)/norm(exact)\n",
    "    \n",
    "    return norm(exact-solcg)/norm(exact)"
   ]
  },
  {
   "cell_type": "markdown",
   "metadata": {},
   "source": [
    "# Convergence Tests"
   ]
  },
  {
   "cell_type": "code",
   "execution_count": null,
   "metadata": {
    "collapsed": true
   },
   "outputs": [],
   "source": [
    "def f(X):\n",
    "    x = X[:,0]\n",
    "    y = X[:,1]\n",
    "    z = X[:,2]\n",
    "    \n",
    "    p = np.pi*2\n",
    "    r = np.cos(p*x)*np.cos(p*y)*np.cos(p*z)\n",
    "    #if not periodic:\n",
    "    r += x\n",
    "    return r\n",
    "\n",
    "def f2(X):\n",
    "    x = X[:,0]\n",
    "    y = X[:,1]\n",
    "    z = X[:,2]\n",
    "    \n",
    "    p = np.pi*2\n",
    "    return np.cos(p*x)*np.cos(p*y)*np.cos(p*z)*3*(p)**2"
   ]
  },
  {
   "cell_type": "markdown",
   "metadata": {},
   "source": [
    "## Dirichlet convergence"
   ]
  },
  {
   "cell_type": "code",
   "execution_count": null,
   "metadata": {
    "collapsed": false
   },
   "outputs": [],
   "source": [
    "Na = [1,2,3]\n",
    "Ea = [4,8,16]\n",
    "\n",
    "erra = []\n",
    "for N in Na:\n",
    "    err = []\n",
    "    for E in Ea:\n",
    "        err += [solve_problem(f, f2, (E,E,E), N, False)]\n",
    "    erra += [err]"
   ]
  },
  {
   "cell_type": "code",
   "execution_count": null,
   "metadata": {
    "collapsed": true
   },
   "outputs": [],
   "source": []
  }
 ],
 "metadata": {
  "kernelspec": {
   "display_name": "Python 2",
   "language": "python",
   "name": "python2"
  },
  "language_info": {
   "codemirror_mode": {
    "name": "ipython",
    "version": 2
   },
   "file_extension": ".py",
   "mimetype": "text/x-python",
   "name": "python",
   "nbconvert_exporter": "python",
   "pygments_lexer": "ipython2",
   "version": "2.7.12"
  }
 },
 "nbformat": 4,
 "nbformat_minor": 0
}
