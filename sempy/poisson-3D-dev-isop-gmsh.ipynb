{
 "cells": [
  {
   "cell_type": "code",
   "execution_count": null,
   "metadata": {
    "collapsed": false
   },
   "outputs": [],
   "source": [
    "%matplotlib inline\n",
    "%load_ext autoreload\n",
    "%autoreload 2\n",
    "%load_ext line_profiler"
   ]
  },
  {
   "cell_type": "code",
   "execution_count": null,
   "metadata": {
    "collapsed": false
   },
   "outputs": [],
   "source": [
    "import numpy as np\n",
    "from numpy import newaxis as na\n",
    "import scipy\n",
    "import scipy.sparse as sps\n",
    "from scipy.sparse.linalg import spsolve, LinearOperator\n",
    "import matplotlib.pyplot as plt\n",
    "from mpl_toolkits.mplot3d import Axes3D\n",
    "from matplotlib import cm"
   ]
  },
  {
   "cell_type": "code",
   "execution_count": null,
   "metadata": {
    "collapsed": false
   },
   "outputs": [],
   "source": [
    "from pyamg.classical import ruge_stuben_solver\n",
    "norm  = lambda x: np.max(np.abs(x)) if len(x)>0 else 0.0\n",
    "kron3 = lambda x,y,z: sps.kron(x,sps.kron(y,z))"
   ]
  },
  {
   "cell_type": "code",
   "execution_count": null,
   "metadata": {
    "collapsed": false
   },
   "outputs": [],
   "source": [
    "from tensormesh import HexCubePoisson\n",
    "from maps import LinearIsopMap\n",
    "from topology import CubicTopology\n",
    "from poisson import PoissonProblem"
   ]
  },
  {
   "cell_type": "code",
   "execution_count": null,
   "metadata": {
    "collapsed": false
   },
   "outputs": [],
   "source": [
    "from gmsh import MeshGmsh\n",
    "from basis import LagrangeBasisHex\n",
    "mnorm = lambda x: np.max(np.abs(x))"
   ]
  },
  {
   "cell_type": "markdown",
   "metadata": {},
   "source": [
    "# Setup mesh"
   ]
  },
  {
   "cell_type": "code",
   "execution_count": null,
   "metadata": {
    "collapsed": false
   },
   "outputs": [],
   "source": [
    "N = 4\n",
    "\n",
    "periodic = False"
   ]
  },
  {
   "cell_type": "code",
   "execution_count": null,
   "metadata": {
    "collapsed": false
   },
   "outputs": [],
   "source": [
    "mesh = MeshGmsh()\n",
    "#mesh.build(\"../dev/gmsh/cylinder.msh\")\n",
    "#mesh.build(\"../dev/gmsh/cube-cylinder-hole.msh\")\n",
    "mesh.build(\"../dev/gmsh/sphere.msh\")\n",
    "\n",
    "\n",
    "basis = LagrangeBasisHex(N)\n",
    "mesh.add_basis(basis)"
   ]
  },
  {
   "cell_type": "code",
   "execution_count": null,
   "metadata": {
    "collapsed": true
   },
   "outputs": [],
   "source": [
    "# def f(X):\n",
    "#     x = X[:,0]\n",
    "#     y = X[:,1]\n",
    "#     z = X[:,2]\n",
    "    \n",
    "#     return np.sin(np.pi*x)*np.sin(np.pi*y)*np.sin(np.pi*z)\n",
    "\n",
    "# def f2(X):\n",
    "#     x = X[:,0]\n",
    "#     y = X[:,1]\n",
    "#     z = X[:,2]\n",
    "    \n",
    "#     return np.sin(np.pi*x)*np.sin(np.pi*y)*np.sin(np.pi*z)*3*(np.pi)**2\n",
    "\n",
    "def f(X):\n",
    "    x = X[:,0]\n",
    "    y = X[:,1]\n",
    "    z = X[:,2]\n",
    "    \n",
    "    p = np.pi*2\n",
    "    r = np.cos(p*x)*np.cos(p*y)*np.cos(p*z)\n",
    "#     if not periodic:\n",
    "#         r += x\n",
    "    return r\n",
    "\n",
    "def f2(X):\n",
    "    x = X[:,0]\n",
    "    y = X[:,1]\n",
    "    z = X[:,2]\n",
    "    \n",
    "    p = np.pi*2\n",
    "    return np.cos(p*x)*np.cos(p*y)*np.cos(p*z)*3*(p)**2"
   ]
  },
  {
   "cell_type": "code",
   "execution_count": null,
   "metadata": {
    "collapsed": false
   },
   "outputs": [],
   "source": [
    "lmap = LinearIsopMap()\n",
    "\n",
    "etn = mesh.elem_to_node\n",
    "Q, etd = mesh.Q, mesh.elem_to_dof\n",
    "R = mesh.R\n",
    "boundary_dofs = mesh.boundary_dofs"
   ]
  },
  {
   "cell_type": "markdown",
   "metadata": {},
   "source": [
    "# Poisson"
   ]
  },
  {
   "cell_type": "code",
   "execution_count": null,
   "metadata": {
    "collapsed": false
   },
   "outputs": [],
   "source": [
    "# Compatibility hacks\n",
    "mesh.n_elem = mesh.n_elems\n",
    "\n",
    "# Build the poisson problem\n",
    "poisson = PoissonProblem(mesh, lmap)\n",
    "poisson.build(mesh.nodes)"
   ]
  },
  {
   "cell_type": "code",
   "execution_count": null,
   "metadata": {
    "collapsed": false
   },
   "outputs": [],
   "source": [
    "p = poisson\n",
    "\n",
    "nn = mesh.R.shape[0]\n",
    "    \n",
    "linOp = LinearOperator((nn, nn), matvec=p.apply_A)"
   ]
  },
  {
   "cell_type": "markdown",
   "metadata": {},
   "source": [
    "## Solve System"
   ]
  },
  {
   "cell_type": "code",
   "execution_count": null,
   "metadata": {
    "collapsed": false
   },
   "outputs": [],
   "source": [
    "p = poisson\n",
    "dof_phys = p.dof_phys\n",
    "fh  = f2(dof_phys)\n",
    "fl = fh\n",
    "rhs = p.B.dot(fl)\n",
    "radj = np.zeros(p.n_dofs)\n",
    "radj[boundary_dofs] = f(dof_phys)[boundary_dofs]\n",
    "rhs = R.dot(rhs-p.apply_A(radj, apply_R=False))\n",
    "exact = f(dof_phys)\n",
    "\n",
    "if periodic:\n",
    "    rhs -= np.mean(rhs)    "
   ]
  },
  {
   "cell_type": "markdown",
   "metadata": {},
   "source": [
    "### Solve with CG"
   ]
  },
  {
   "cell_type": "code",
   "execution_count": null,
   "metadata": {
    "collapsed": false,
    "scrolled": true
   },
   "outputs": [],
   "source": [
    "class CB(object):\n",
    "    def __init__(self):\n",
    "        self.n_iter = 0\n",
    "    def __call__(self, x):\n",
    "        self.n_iter += 1\n",
    "        \n",
    "cb = CB()\n",
    "solcg, errc = sps.linalg.cg(linOp, rhs, tol=1e-14, \n",
    "                            maxiter=2000, callback=cb)\n",
    "\n",
    "solcg = R.T.dot(solcg)\n",
    "if periodic:\n",
    "    \n",
    "    solcg -= np.mean(solcg)\n",
    "    exact -= np.mean(exact)\n",
    "else:\n",
    "    solcg[boundary_dofs] = f(dof_phys[boundary_dofs])\n",
    "    \n",
    "print cb.n_iter, norm(rhs-p.apply_A(R.dot(solcg)))\n",
    "print\n",
    "print norm(exact-solcg)/norm(exact)"
   ]
  },
  {
   "cell_type": "code",
   "execution_count": null,
   "metadata": {
    "collapsed": false
   },
   "outputs": [],
   "source": [
    "dp = p.dof_phys\n",
    "err = (exact-solcg)[np.abs(dp[:,0])<1e-6]\n",
    "dp = dp[np.abs(dp[:,0])<1e-6]\n",
    "\n",
    "plt.scatter(dp[:,1],dp[:,2],\n",
    "            c=err*100)\n",
    "\n",
    "\n",
    "plt.show()\n",
    "mnorm(err)"
   ]
  },
  {
   "cell_type": "code",
   "execution_count": null,
   "metadata": {
    "collapsed": false
   },
   "outputs": [],
   "source": [
    "dp = p.dof_phys\n",
    "err = (exact-solcg)[np.abs(dp[:,2]-.5)<1e-6]\n",
    "dp = dp[np.abs(dp[:,2]-.5)<1e-6]\n",
    "\n",
    "plt.scatter(dp[:,0],dp[:,1],\n",
    "            c=err*100)\n",
    "\n",
    "\n",
    "plt.show()\n",
    "mnorm(err)"
   ]
  },
  {
   "cell_type": "code",
   "execution_count": null,
   "metadata": {
    "collapsed": false
   },
   "outputs": [],
   "source": [
    "# fig = plt.figure()\n",
    "# ax = fig.add_subplot(111, projection='3d')\n",
    "\n",
    "# dp = p.dof_phys\n",
    "\n",
    "# ax.scatter(dp[:,0], dp[:,1], dp[:,2])\n",
    "\n",
    "# plt.show()"
   ]
  },
  {
   "cell_type": "code",
   "execution_count": null,
   "metadata": {
    "collapsed": false
   },
   "outputs": [],
   "source": [
    "fig = plt.figure()\n",
    "ax = fig.add_subplot(111, projection='3d')\n",
    "\n",
    "dp = p.dof_phys[mesh.boundary_dofs]\n",
    "\n",
    "ax.scatter(dp[:,0], dp[:,1], dp[:,2])\n",
    "\n",
    "plt.show()"
   ]
  },
  {
   "cell_type": "code",
   "execution_count": null,
   "metadata": {
    "collapsed": true
   },
   "outputs": [],
   "source": []
  }
 ],
 "metadata": {
  "kernelspec": {
   "display_name": "Python 2",
   "language": "python",
   "name": "python2"
  },
  "language_info": {
   "codemirror_mode": {
    "name": "ipython",
    "version": 2
   },
   "file_extension": ".py",
   "mimetype": "text/x-python",
   "name": "python",
   "nbconvert_exporter": "python",
   "pygments_lexer": "ipython2",
   "version": "2.7.12"
  }
 },
 "nbformat": 4,
 "nbformat_minor": 0
}
