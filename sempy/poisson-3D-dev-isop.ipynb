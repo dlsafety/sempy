{
 "cells": [
  {
   "cell_type": "code",
   "execution_count": null,
   "metadata": {
    "collapsed": false
   },
   "outputs": [],
   "source": [
    "%matplotlib inline\n",
    "%load_ext autoreload\n",
    "%autoreload 2\n",
    "%load_ext line_profiler"
   ]
  },
  {
   "cell_type": "code",
   "execution_count": null,
   "metadata": {
    "collapsed": true
   },
   "outputs": [],
   "source": [
    "import numpy as np\n",
    "from numpy import newaxis as na\n",
    "import scipy\n",
    "import scipy.sparse as sps\n",
    "from scipy.sparse.linalg import spsolve, LinearOperator\n",
    "import matplotlib.pyplot as plt\n",
    "from mpl_toolkits.mplot3d import Axes3D\n",
    "from matplotlib import cm"
   ]
  },
  {
   "cell_type": "code",
   "execution_count": null,
   "metadata": {
    "collapsed": false
   },
   "outputs": [],
   "source": [
    "from pyamg.classical import ruge_stuben_solver\n",
    "norm  = lambda x: np.max(np.abs(x)) if len(x)>0 else 0.0\n",
    "kron3 = lambda x,y,z: sps.kron(x,sps.kron(y,z))"
   ]
  },
  {
   "cell_type": "code",
   "execution_count": null,
   "metadata": {
    "collapsed": false
   },
   "outputs": [],
   "source": [
    "from tensormesh import HexCubePoisson\n",
    "from maps import LinearIsopMap\n",
    "from topology import CubicTopology\n",
    "from poisson import PoissonProblem"
   ]
  },
  {
   "cell_type": "markdown",
   "metadata": {},
   "source": [
    "# Setup mesh"
   ]
  },
  {
   "cell_type": "code",
   "execution_count": null,
   "metadata": {
    "collapsed": false
   },
   "outputs": [],
   "source": [
    "N  = 8\n",
    "\n",
    "Ex = 8\n",
    "Ey = Ex\n",
    "Ez = Ex\n",
    "\n",
    "periodic = False\n",
    "    \n",
    "do_assemble = False"
   ]
  },
  {
   "cell_type": "code",
   "execution_count": null,
   "metadata": {
    "collapsed": true
   },
   "outputs": [],
   "source": [
    "# def f(X):\n",
    "#     x = X[:,0]\n",
    "#     y = X[:,1]\n",
    "#     z = X[:,2]\n",
    "    \n",
    "#     return np.sin(np.pi*x)*np.sin(np.pi*y)*np.sin(np.pi*z)\n",
    "\n",
    "# def f2(X):\n",
    "#     x = X[:,0]\n",
    "#     y = X[:,1]\n",
    "#     z = X[:,2]\n",
    "    \n",
    "#     return np.sin(np.pi*x)*np.sin(np.pi*y)*np.sin(np.pi*z)*3*(np.pi)**2\n",
    "\n",
    "def f(X):\n",
    "    x = X[:,0]\n",
    "    y = X[:,1]\n",
    "    z = X[:,2]\n",
    "    \n",
    "    p = np.pi*2\n",
    "    r = np.cos(p*x)*np.cos(p*y)*np.cos(p*z)\n",
    "    if not periodic:\n",
    "        r += x\n",
    "    return r\n",
    "\n",
    "def f2(X):\n",
    "    x = X[:,0]\n",
    "    y = X[:,1]\n",
    "    z = X[:,2]\n",
    "    \n",
    "    p = np.pi*2\n",
    "    return np.cos(p*x)*np.cos(p*y)*np.cos(p*z)*3*(p)**2"
   ]
  },
  {
   "cell_type": "code",
   "execution_count": null,
   "metadata": {
    "collapsed": false
   },
   "outputs": [],
   "source": [
    "lmap = LinearIsopMap()\n",
    "\n",
    "topo = CubicTopology(N, (Ex, Ey, Ez),\n",
    "                    periodic=periodic)\n",
    "topo.build()\n",
    "\n",
    "etn = topo.elem_to_vertex\n",
    "Q, etd = topo.Q, topo.elem_to_dof\n",
    "R = topo.R\n",
    "boundary_dofs = topo.boundary_dofs"
   ]
  },
  {
   "cell_type": "code",
   "execution_count": null,
   "metadata": {
    "collapsed": true
   },
   "outputs": [],
   "source": [
    "vertex_ref = topo.get_vertex_ref()\n",
    "\n",
    "vertex_phys = vertex_ref.copy()\n",
    "vertex_phys[:,0] *= 1\n",
    "vertex_phys[:,1] *= 1\n",
    "vertex_phys[:,2] *= 1\n",
    "\n",
    "shift = 0.5\n",
    "chi, eta, zeta = vertex_ref.T+shift\n",
    "sx = sy = sz = 0.1\n",
    "vp = vertex_phys\n",
    "sin3  = np.sin(np.pi*chi)*np.sin(np.pi*eta)*np.sin(np.pi*zeta)\n",
    "vp[:,0] = chi +sx*sin3\n",
    "vp[:,1] = eta +sy*sin3\n",
    "vp[:,2] = zeta+sz*sin3"
   ]
  },
  {
   "cell_type": "markdown",
   "metadata": {},
   "source": [
    "# Poisson"
   ]
  },
  {
   "cell_type": "code",
   "execution_count": null,
   "metadata": {
    "collapsed": false
   },
   "outputs": [],
   "source": [
    "poisson = PoissonProblem(topo, lmap)\n",
    "poisson.build(vertex_phys)"
   ]
  },
  {
   "cell_type": "code",
   "execution_count": null,
   "metadata": {
    "collapsed": false
   },
   "outputs": [],
   "source": [
    "# # Build poisson stiffness matrix A\n",
    "# p = poisson\n",
    "# G11, G12, G13 = p.G11, p.G12, p.G13\n",
    "# G21, G22, G23 = p.G21, p.G22, p.G23\n",
    "# G31, G32, G33 = p.G31, p.G32, p.G33\n",
    "# D1, D2, D3    = p.D1, p.D2, p.D3\n",
    "\n",
    "# if do_assemble:\n",
    "#     A0a = []\n",
    "#     for i in range(n_elem):\n",
    "#         A0a += [D1.T.dot(G11[i].dot(D1)+G12[i].dot(D2)+G13[i].dot(D3))+\\\n",
    "#                 D2.T.dot(G21[i].dot(D1)+G22[i].dot(D2)+G23[i].dot(D3))+\\\n",
    "#                 D3.T.dot(G31[i].dot(D1)+G32[i].dot(D2)+G33[i].dot(D3))]\n",
    "#     A0 = sps.block_diag(A0a).tocsr()\n",
    "#     A0 = Q.T.dot(A0.dot(Q))\n",
    "#     A  = R.dot(A0.dot(R.T))"
   ]
  },
  {
   "cell_type": "code",
   "execution_count": null,
   "metadata": {
    "collapsed": false
   },
   "outputs": [],
   "source": [
    "p = poisson\n",
    "if periodic:\n",
    "    nn = p.n_dofs\n",
    "else:\n",
    "    nn = (p.nz_dofs-2)*(p.ny_dofs-2)*(p.nx_dofs-2)\n",
    "\n",
    "linOp = LinearOperator((nn, nn), matvec=p.apply_A)\n",
    "\n",
    "M = HexCubePoisson(N,Ex,L=2,periodic=periodic)\n",
    "M.build_mesh()\n",
    "precond = LinearOperator((nn,nn), \n",
    "                         matvec=M.solve)"
   ]
  },
  {
   "cell_type": "markdown",
   "metadata": {},
   "source": [
    "## Solve System"
   ]
  },
  {
   "cell_type": "code",
   "execution_count": null,
   "metadata": {
    "collapsed": false
   },
   "outputs": [],
   "source": [
    "dof_phys = p.dof_phys\n",
    "fh  = f2(dof_phys)\n",
    "fl = fh\n",
    "rhs = p.B.dot(fl)\n",
    "radj = np.zeros(p.nx_dofs*p.ny_dofs*p.nz_dofs)\n",
    "radj[boundary_dofs] = f(dof_phys)[boundary_dofs]\n",
    "rhs = R.dot(rhs-p.apply_A(radj, apply_R=False))\n",
    "exact = f(dof_phys)\n",
    "\n",
    "if periodic:\n",
    "    rhs -= np.mean(rhs)    "
   ]
  },
  {
   "cell_type": "code",
   "execution_count": null,
   "metadata": {
    "collapsed": false
   },
   "outputs": [],
   "source": [
    "# # Check apply_A against full matrix\n",
    "# if do_assemble:\n",
    "#     print norm(p.apply_A(rhs)-A.dot(rhs))"
   ]
  },
  {
   "cell_type": "markdown",
   "metadata": {},
   "source": [
    "### Solve with AMG"
   ]
  },
  {
   "cell_type": "code",
   "execution_count": null,
   "metadata": {
    "collapsed": false
   },
   "outputs": [],
   "source": [
    "if do_assemble:\n",
    "    ml = ruge_stuben_solver(A)\n",
    "    residuals = []\n",
    "    sol = R.T.dot(ml.solve(rhs, tol=1e-14, \n",
    "                           maxiter=500, residuals=residuals,\n",
    "                           accel='cg'))\n",
    "    sol[boundary_dofs] = f(dof_phys)[boundary_dofs]\n",
    "\n",
    "    \n",
    "    if periodic:\n",
    "        sol   -= sol[0]\n",
    "        exact -= exact[0]\n",
    "\n",
    "    print len(residuals), residuals[-1]\n",
    "    print \n",
    "    print norm(exact-sol)/norm(exact)"
   ]
  },
  {
   "cell_type": "markdown",
   "metadata": {},
   "source": [
    "### Solve with CG"
   ]
  },
  {
   "cell_type": "code",
   "execution_count": null,
   "metadata": {
    "collapsed": false,
    "scrolled": true
   },
   "outputs": [],
   "source": [
    "class CB(object):\n",
    "    def __init__(self):\n",
    "        self.n_iter = 0\n",
    "    def __call__(self, x):\n",
    "        self.n_iter += 1\n",
    "        \n",
    "cb = CB()\n",
    "solcg, errc = sps.linalg.cg(linOp, rhs, tol=1e-14, \n",
    "                            maxiter=2000, callback=cb,\n",
    "                            M=precond)\n",
    "\n",
    "solcg = R.T.dot(solcg)\n",
    "if periodic:\n",
    "    \n",
    "    solcg -= np.mean(solcg)\n",
    "    exact -= np.mean(exact)\n",
    "else:\n",
    "    solcg[boundary_dofs] = f(dof_phys[boundary_dofs])\n",
    "    \n",
    "print cb.n_iter, norm(rhs-p.apply_A(R.dot(solcg)))\n",
    "print\n",
    "print norm(exact-solcg)/norm(exact)\n",
    "if do_assemble:\n",
    "    print norm(sol-solcg)"
   ]
  },
  {
   "cell_type": "code",
   "execution_count": null,
   "metadata": {
    "collapsed": false
   },
   "outputs": [],
   "source": [
    "# Dirichlet convergence on twisted domain\n",
    "six = [8.15638640052e-05,\n",
    "       8.31382849419e-07,\n",
    "       4.30139456801e-09]\n",
    "\n",
    "five = [0.000962099963069,\n",
    "        5.61991711754e-06,\n",
    "        8.71037655601e-08]\n",
    "\n",
    "four = [0.00285615225999,\n",
    "        7.57244184609e-05,\n",
    "        1.94727477124e-06]\n",
    "\n",
    "pt = plt.loglog\n",
    "hv = 2.0/(4*np.arange(1,4))\n",
    "Ka = np.array([4, 8, 16])\n",
    "\n",
    "pt(Ka, four)\n",
    "pt(Ka, five)\n",
    "pt(Ka, six)\n",
    "\n",
    "print np.log2(four[-1]/four[-2])\n",
    "print np.log2(five[-1]/five[-2])\n",
    "print np.log2(six[-1]/six[-2])"
   ]
  },
  {
   "cell_type": "code",
   "execution_count": null,
   "metadata": {
    "collapsed": false
   },
   "outputs": [],
   "source": [
    "# # Dirichlet convergence\n",
    "# six = [0.000101995581293,\n",
    "#        1.03927870865e-06,\n",
    "#        5.38245403803e-09]\n",
    "\n",
    "# five = [0.00120279085549,\n",
    "#         7.01764904154e-06,\n",
    "#         1.09136199744e-07]\n",
    "\n",
    "# four = [0.00359712312981,\n",
    "#         9.49320670836e-05,\n",
    "#         2.43538830924e-06]\n",
    "\n",
    "# pt = plt.loglog\n",
    "# hv = 2.0/(4*np.arange(1,4))\n",
    "# Ka = np.array([4, 8, 16])\n",
    "\n",
    "# pt(Ka, four)\n",
    "# pt(Ka, five)\n",
    "# pt(Ka, six)\n",
    "\n",
    "# print np.log2(four[-1]/four[-2])\n",
    "# print np.log2(five[-1]/five[-2])\n",
    "# print np.log2(six[-1]/six[-2])"
   ]
  },
  {
   "cell_type": "code",
   "execution_count": null,
   "metadata": {
    "collapsed": false
   },
   "outputs": [],
   "source": [
    "# # Periodic convergence\n",
    "# six = [0.000201669449932,\n",
    "#        2.06566033268e-06,\n",
    "#        1.06832162949e-08]\n",
    "\n",
    "# five = [0.00237745836202,\n",
    "#         1.39552087489e-05,\n",
    "#         2.16385736726e-07]\n",
    "\n",
    "# four = [0.00708725698047,\n",
    "#         0.000188003387049,\n",
    "#         4.83988801374e-06]\n",
    "\n",
    "# pt = plt.loglog\n",
    "# hv = 2.0/(4*np.arange(1,4))\n",
    "# Ka = np.array([4, 8, 16])\n",
    "\n",
    "# pt(Ka, four)\n",
    "# pt(Ka, five)\n",
    "# pt(Ka, six)\n",
    "\n",
    "# print np.log2(four[-1]/four[-2])\n",
    "# print np.log2(five[-1]/five[-2])\n",
    "# print np.log2(six[-1]/six[-2])"
   ]
  },
  {
   "cell_type": "code",
   "execution_count": null,
   "metadata": {
    "collapsed": false
   },
   "outputs": [],
   "source": [
    "dp = dof_phys.reshape((p.nz_dofs,p.ny_dofs,p.nx_dofs,3))\n",
    "if periodic:\n",
    "    dp = dp.copy()\n",
    "    dp[dp==1.0] = -1.0\n",
    "ds = solcg.reshape((p.nz_dofs,p.ny_dofs,p.nx_dofs))"
   ]
  },
  {
   "cell_type": "code",
   "execution_count": null,
   "metadata": {
    "collapsed": false
   },
   "outputs": [],
   "source": [
    "fig = plt.figure()\n",
    "ax = fig.gca(projection='3d')\n",
    "s = (p.ny_dofs,p.nx_dofs)\n",
    "k = int(0.4*p.nz_dofs)\n",
    "X = dp[k,:,:,0]\n",
    "Y = dp[k,:,:,1]\n",
    "\n",
    "ax.plot_wireframe(X, Y, \n",
    "                  exact.reshape((p.nz_dofs,p.ny_dofs,p.nx_dofs))[k,:,:])\n",
    "ax.plot_wireframe(X, Y, ds[k,:,:].reshape(s),\n",
    "                  color='g')\n",
    "plt.show()"
   ]
  },
  {
   "cell_type": "code",
   "execution_count": null,
   "metadata": {
    "collapsed": false
   },
   "outputs": [],
   "source": [
    "plt.scatter(X,Y)"
   ]
  },
  {
   "cell_type": "code",
   "execution_count": null,
   "metadata": {
    "collapsed": true
   },
   "outputs": [],
   "source": []
  }
 ],
 "metadata": {
  "kernelspec": {
   "display_name": "Python 2",
   "language": "python",
   "name": "python2"
  },
  "language_info": {
   "codemirror_mode": {
    "name": "ipython",
    "version": 2
   },
   "file_extension": ".py",
   "mimetype": "text/x-python",
   "name": "python",
   "nbconvert_exporter": "python",
   "pygments_lexer": "ipython2",
   "version": "2.7.12"
  }
 },
 "nbformat": 4,
 "nbformat_minor": 0
}
